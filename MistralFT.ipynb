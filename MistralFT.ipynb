{
  "cells": [
    {
      "cell_type": "markdown",
      "metadata": {
        "id": "view-in-github",
        "colab_type": "text"
      },
      "source": [
        "<a href=\"https://colab.research.google.com/github/sofiadelamora/HumanTMexicoNetwork/blob/main/MistralFT.ipynb\" target=\"_parent\"><img src=\"https://colab.research.google.com/assets/colab-badge.svg\" alt=\"Open In Colab\"/></a>"
      ]
    },
    {
      "cell_type": "markdown",
      "source": [
        "# Install required packages"
      ],
      "metadata": {
        "id": "Hnuq3S-Rph-i"
      }
    },
    {
      "cell_type": "code",
      "source": [
        "!pip install -U transformers huggingface_hub"
      ],
      "metadata": {
        "colab": {
          "base_uri": "https://localhost:8080/"
        },
        "id": "Q0OFw9VeHLla",
        "outputId": "0ec1ee43-845b-482a-8207-a1d40a31c5b0"
      },
      "execution_count": 1,
      "outputs": [
        {
          "output_type": "stream",
          "name": "stdout",
          "text": [
            "Requirement already satisfied: transformers in /usr/local/lib/python3.10/dist-packages (4.38.2)\n",
            "Collecting transformers\n",
            "  Using cached transformers-4.41.2-py3-none-any.whl (9.1 MB)\n",
            "Requirement already satisfied: huggingface_hub in /usr/local/lib/python3.10/dist-packages (0.23.2)\n",
            "Requirement already satisfied: filelock in /usr/local/lib/python3.10/dist-packages (from transformers) (3.14.0)\n",
            "Requirement already satisfied: numpy>=1.17 in /usr/local/lib/python3.10/dist-packages (from transformers) (1.25.2)\n",
            "Requirement already satisfied: packaging>=20.0 in /usr/local/lib/python3.10/dist-packages (from transformers) (24.0)\n",
            "Requirement already satisfied: pyyaml>=5.1 in /usr/local/lib/python3.10/dist-packages (from transformers) (6.0.1)\n",
            "Requirement already satisfied: regex!=2019.12.17 in /usr/local/lib/python3.10/dist-packages (from transformers) (2024.5.15)\n",
            "Requirement already satisfied: requests in /usr/local/lib/python3.10/dist-packages (from transformers) (2.32.3)\n",
            "Collecting tokenizers<0.20,>=0.19 (from transformers)\n",
            "  Downloading tokenizers-0.19.1-cp310-cp310-manylinux_2_17_x86_64.manylinux2014_x86_64.whl (3.6 MB)\n",
            "\u001b[2K     \u001b[90m━━━━━━━━━━━━━━━━━━━━━━━━━━━━━━━━━━━━━━━━\u001b[0m \u001b[32m3.6/3.6 MB\u001b[0m \u001b[31m46.3 MB/s\u001b[0m eta \u001b[36m0:00:00\u001b[0m\n",
            "\u001b[?25hRequirement already satisfied: safetensors>=0.4.1 in /usr/local/lib/python3.10/dist-packages (from transformers) (0.4.3)\n",
            "Requirement already satisfied: tqdm>=4.27 in /usr/local/lib/python3.10/dist-packages (from transformers) (4.66.4)\n",
            "Requirement already satisfied: fsspec>=2023.5.0 in /usr/local/lib/python3.10/dist-packages (from huggingface_hub) (2023.6.0)\n",
            "Requirement already satisfied: typing-extensions>=3.7.4.3 in /usr/local/lib/python3.10/dist-packages (from huggingface_hub) (4.12.0)\n",
            "Requirement already satisfied: charset-normalizer<4,>=2 in /usr/local/lib/python3.10/dist-packages (from requests->transformers) (3.3.2)\n",
            "Requirement already satisfied: idna<4,>=2.5 in /usr/local/lib/python3.10/dist-packages (from requests->transformers) (3.7)\n",
            "Requirement already satisfied: urllib3<3,>=1.21.1 in /usr/local/lib/python3.10/dist-packages (from requests->transformers) (2.0.7)\n",
            "Requirement already satisfied: certifi>=2017.4.17 in /usr/local/lib/python3.10/dist-packages (from requests->transformers) (2024.2.2)\n",
            "Installing collected packages: tokenizers, transformers\n",
            "  Attempting uninstall: tokenizers\n",
            "    Found existing installation: tokenizers 0.15.2\n",
            "    Uninstalling tokenizers-0.15.2:\n",
            "      Successfully uninstalled tokenizers-0.15.2\n",
            "  Attempting uninstall: transformers\n",
            "    Found existing installation: transformers 4.38.2\n",
            "    Uninstalling transformers-4.38.2:\n",
            "      Successfully uninstalled transformers-4.38.2\n",
            "Successfully installed tokenizers-0.19.1 transformers-4.41.2\n"
          ]
        }
      ]
    },
    {
      "cell_type": "code",
      "execution_count": 2,
      "metadata": {
        "id": "9d8rnqHkCRsZ",
        "colab": {
          "base_uri": "https://localhost:8080/"
        },
        "outputId": "60d1b6cf-7f6f-4def-921f-c433938e81f5"
      },
      "outputs": [
        {
          "output_type": "stream",
          "name": "stdout",
          "text": [
            "\u001b[2K     \u001b[90m━━━━━━━━━━━━━━━━━━━━━━━━━━━━━━━━━━━━━━━━\u001b[0m \u001b[32m92.6/92.6 MB\u001b[0m \u001b[31m18.5 MB/s\u001b[0m eta \u001b[36m0:00:00\u001b[0m\n",
            "\u001b[?25h"
          ]
        }
      ],
      "source": [
        "!pip install -q accelerate==0.28.0 peft==0.4.0 bitsandbytes==0.41.3 trl==0.4.7 ipywidgets==7.7.1 transformers==4.38.2"
      ]
    },
    {
      "cell_type": "markdown",
      "source": [
        "# Imports"
      ],
      "metadata": {
        "id": "aYU2ucc3przI"
      }
    },
    {
      "cell_type": "code",
      "execution_count": 3,
      "metadata": {
        "id": "YM2M4Zb-IlN3"
      },
      "outputs": [],
      "source": [
        "import os\n",
        "import torch\n",
        "from datasets import load_dataset\n",
        "from transformers import (\n",
        "    AutoModelForCausalLM,\n",
        "    AutoTokenizer,\n",
        "    BitsAndBytesConfig,\n",
        "    HfArgumentParser,\n",
        "    TrainingArguments,\n",
        "    pipeline,\n",
        "    logging,\n",
        ")\n",
        "from peft import LoraConfig, PeftModel\n",
        "from peft.utils import prepare_model_for_kbit_training\n",
        "from trl import SFTTrainer\n",
        "from google.colab import files, userdata\n",
        "from datasets import Dataset\n",
        "import pandas as pd\n",
        "import json\n",
        "import re\n",
        "# from huggingface_hub import notebook_login"
      ]
    },
    {
      "cell_type": "code",
      "source": [
        "hf_auth = userdata.get('HF_TOKEN_2')"
      ],
      "metadata": {
        "id": "i5cRRE7y-5-O"
      },
      "execution_count": 4,
      "outputs": []
    },
    {
      "cell_type": "markdown",
      "source": [
        "# Load model"
      ],
      "metadata": {
        "id": "vwENlg2DtMMy"
      }
    },
    {
      "cell_type": "code",
      "source": [
        "# Model to train\n",
        "model_name = \"mistralai/Mistral-7B-Instruct-v0.3\""
      ],
      "metadata": {
        "id": "YlZy-6hrunna"
      },
      "execution_count": 5,
      "outputs": []
    },
    {
      "cell_type": "code",
      "source": [
        "# Conversation dataset to use\n",
        "dataset_path = \"/content/conversations.json\""
      ],
      "metadata": {
        "id": "jvc3zEqeunpo"
      },
      "execution_count": 6,
      "outputs": []
    },
    {
      "cell_type": "code",
      "source": [
        "# Fine-tuned model name\n",
        "new_model = \"Mistral-7b-instruct-v0.3-finetuned\""
      ],
      "metadata": {
        "id": "MvZEXbcxunsA"
      },
      "execution_count": 7,
      "outputs": []
    },
    {
      "cell_type": "markdown",
      "source": [
        "## QLoRA parameters"
      ],
      "metadata": {
        "id": "jiQ854c0HHzs"
      }
    },
    {
      "cell_type": "code",
      "source": [
        "# LoRA attention dimension\n",
        "lora_r = 64\n",
        "\n",
        "# Alpha parameter for LoRA scaling\n",
        "lora_alpha = 16\n",
        "\n",
        "# Dropout probability for LoRA layers\n",
        "lora_dropout = 0.1"
      ],
      "metadata": {
        "id": "DhhDEQ00unuB"
      },
      "execution_count": 8,
      "outputs": []
    },
    {
      "cell_type": "markdown",
      "source": [
        "## Bitsandbytes parameters"
      ],
      "metadata": {
        "id": "ZS1P-4FhHLcw"
      }
    },
    {
      "cell_type": "code",
      "execution_count": 9,
      "metadata": {
        "id": "v2oUt9QVJ2Lb"
      },
      "outputs": [],
      "source": [
        "# Activate 4-bit precision base model loading\n",
        "use_4bit = True\n",
        "\n",
        "# Compute dtype for 4-bit base models\n",
        "bnb_4bit_compute_dtype = \"float16\"\n",
        "\n",
        "# Quantization type (fp4 or nf4)\n",
        "bnb_4bit_quant_type = \"nf4\"\n",
        "\n",
        "# Activate nested quantization for 4-bit base models (double quantization)\n",
        "use_nested_quant = False"
      ]
    },
    {
      "cell_type": "markdown",
      "source": [
        "## TrainingArguments parameters"
      ],
      "metadata": {
        "id": "6Ym3Xk5yHYER"
      }
    },
    {
      "cell_type": "code",
      "source": [
        "# Output directory where the model predictions and checkpoints will be stored\n",
        "output_dir = \"./results\"\n",
        "\n",
        "# Number of training epochs\n",
        "num_train_epochs = 1\n",
        "\n",
        "# Enable fp16/bf16 training (set bf16 to True with an A100)\n",
        "fp16 = False\n",
        "bf16 = False\n",
        "\n",
        "# Batch size per GPU for training\n",
        "per_device_train_batch_size = 4\n",
        "\n",
        "# Batch size per GPU for evaluation\n",
        "per_device_eval_batch_size = 4\n",
        "\n",
        "# Number of update steps to accumulate the gradients for\n",
        "gradient_accumulation_steps = 1\n",
        "\n",
        "# Enable gradient checkpointing\n",
        "gradient_checkpointing = True\n",
        "\n",
        "# Maximum gradient normal (gradient clipping)\n",
        "max_grad_norm = 0.3\n",
        "\n",
        "# Initial learning rate (AdamW optimizer)\n",
        "learning_rate = 2e-4\n",
        "\n",
        "# Weight decay to apply to all layers except bias/LayerNorm weights\n",
        "weight_decay = 0.001\n",
        "\n",
        "# Optimizer t to use\n",
        "optim = \"paged_adamw_32bit\"\n",
        "\n",
        "# Learning rate schedule\n",
        "lr_scheduler_type = \"cosine\"\n",
        "\n",
        "# Number of training steps (overrides num_train_epochs)\n",
        "max_steps = -1\n",
        "\n",
        "# Ratio of steps for a linear warmup (from 0 to learning rate)\n",
        "warmup_ratio = 0.03\n",
        "\n",
        "# Group sequences into batches with same length\n",
        "# Saves memory and speeds up training considerably\n",
        "group_by_length = True\n",
        "\n",
        "# Save checkpoint every X updates steps\n",
        "save_steps = 0\n",
        "\n",
        "# Log every X updates steps\n",
        "logging_steps = 25"
      ],
      "metadata": {
        "id": "jU3t64FLHWB1"
      },
      "execution_count": 10,
      "outputs": []
    },
    {
      "cell_type": "markdown",
      "source": [
        "## SFT parameters"
      ],
      "metadata": {
        "id": "kc7hukVEHgf3"
      }
    },
    {
      "cell_type": "code",
      "source": [
        "# Maximum sequence length to use\n",
        "max_seq_length = None\n",
        "\n",
        "# Pack multiple short examples in the same input sequence to increase efficiency\n",
        "packing = False\n",
        "\n",
        "# Load the entire model on the GPU 0\n",
        "device_map = {\"\": 0}"
      ],
      "metadata": {
        "id": "PfXQF4jbHe_F"
      },
      "execution_count": 11,
      "outputs": []
    },
    {
      "cell_type": "markdown",
      "source": [
        "# Load finetune material"
      ],
      "metadata": {
        "id": "suojY_HXHwIn"
      }
    },
    {
      "cell_type": "code",
      "source": [
        "def validate_json_line(line):\n",
        "    try:\n",
        "        return json.loads(line)\n",
        "    except json.JSONDecodeError:\n",
        "        print(f\"Invalid JSON line: {line}\")\n",
        "        return None"
      ],
      "metadata": {
        "id": "6swcavLSV_TZ"
      },
      "execution_count": 12,
      "outputs": []
    },
    {
      "cell_type": "code",
      "source": [
        "data = []\n",
        "with open(dataset_path, 'r', encoding='utf-8') as f:\n",
        "    for line in f:\n",
        "        json_obj = validate_json_line(line)\n",
        "        if json_obj is not None:\n",
        "            data.append(json_obj)\n",
        "\n",
        "# Verify loaded data\n",
        "print(f\"Loaded {len(data)} records\")\n",
        "\n",
        "# Convert JSON data to a Pandas DataFrame\n",
        "df = pd.DataFrame(data)\n",
        "\n",
        "# Convert DataFrame to Hugging Face Dataset\n",
        "dataset = Dataset.from_pandas(df)\n",
        "\n",
        "# Shuffle and select samples\n",
        "dataset = dataset.shuffle(seed=42).select(range(min(len(dataset), 5000)))"
      ],
      "metadata": {
        "colab": {
          "base_uri": "https://localhost:8080/"
        },
        "id": "6dTU4QWUJkLX",
        "outputId": "61f72b4e-35b6-4660-8308-e7a90ab5d04f"
      },
      "execution_count": 14,
      "outputs": [
        {
          "output_type": "stream",
          "name": "stdout",
          "text": [
            "Invalid JSON line: {\"text\": \"<s>[INST] Quick question, I got my blood draw [TIME] to recheck my thyroid. I finished my last active birth control [TIME]. Do I open a new pack and keep taking active pills? If my bloodwork was good, I didn't know if we would jump into a transfer timeline. [/INST] We will have you get another pack to continue your ACTIVE ONLY pills! Fingers crossed your level comes back good to proceed with transfer!!\\n\\n[INST] I have another pack, so I'll just keep taking the active! \\ud83e\\udd1e\\ud83e\\udd1e\\ud83e\\udd1e I hope it comes back good too!! Thanks! [/INST] I will let you know!!\\n\\n[/INST] Hi Kelly...your [ORG] came back at 1.55 :) Dr. [PERSON] reviewed your results and would like you to remain on your same dose of [ORG]. Let us know when you need an additional refill. In terms of a transfer date...how does this sound: Last birth control 2/20; BASE ultrasound 2/25; LINING check 3/11; [ORG]. Would this work for you? :)\\n\\n[INST] Oh good! Yes, that works. Yay! [INST] Side question, I am starting to cramp bad and I had some spotting [TIME]. Very light. I have not missed one pill and taken it at the same time. Is that ok?? [INST] Oh, and I just checked my cvs portal and I do need refills for my thyroid meds :) [/INST] Great! Look for me to send you a calendar via your nAble portal [DATE]. You may experience some cramping when your cycle would be to \\\"start\\\". Some \\\"break through\\\" bleeding can also be normal while on the birth control. We do suggest trying to take it at the same time [DATE]. I will order you another refill of your thyroid meds now! :)\\n\\n[INST] Awesome! Thanks so much!! [/INST] Can you verify your dose you are currently on? 50mcg?\\n\\n[INST] That is correct [/INST] :)\\n\\n[INST] 2/25 [INST] Oops sorry. Ignore that's haha. [INST] I picked up my refill for my [PERSON] med. I was taking the generic levothyroxine, but the prescription at [ORG] was synthoid (something...) Haha. Should I keep with the brand I have been using, or does Dr. M want me to switch to the new brand? [/INST] levothyroxine is the generic of [PERSON]. I do know she likes the name brand but is 100% okay with the generic. I know there is a cost difference!\\n\\n[INST] Ok perfect! Just want to double check \\ud83e\\udd70 [INST] Will I be getting a write up like last time for my transfer? With dates and steps for this transfer? [/INST] Yes I will work on that now for you\\n\\n[INST] Great! [/INST] I am going to schedule your first baseline ultrasound on [DATE]. What time is best?\\n\\n[INST] Mornings are best anytime [GPE] [/INST] perfect:)\\n\\n[/INST] I just released that to your portal. Please review and let me know if you have any questions\\n\\n[INST] Just saw it! Thank you so much!! [/INST] You are so welcome!\\n\\n[INST] Good Afternoon! Two questions. My period still hasn't started, was hoping that is ok for my baseline scan [DATE] [TIME]. Also, do I start the probiotic on [DATE] after stopping my birth control or do I wait till after I stop bleeding (after getting my period)? [/INST] Hi [PERSON]....keep your baseline ultrasound [DATE]...Dr. [PERSON] will take a look at your lining to see how thick it is and will offer some guidance at that time. Since it is only a [DATE] treatment, just wait until you have any bleeding has stopped to begin the [DATE] treatment :)\\n\\n[INST] Thank you!! [/INST] :)\\n\\n[/INST] Hi Kelly! You are good to start your [PERSON], I just sent your updated Calendar to your portal. Please review and let me know if you have any questions!\\n\\n[INST] Thank you! [INST] Can someone call the generic brand in for me? I'd appreciate it! [INST] Good [TIME], [ORG] won't let me fill for [ORG] (generic) because they only have the name brand [PERSON] as my script for [DATE]... A pain, I know . Trying to stay on the generic brand to save [MONEY] Thanks!! [/INST] Please have [PERSON] sign the thaw consent asap!\\n\\n[INST] Oh will do!! [/INST] We are confirming that the lab will thaw the embryo determined as the \\\"best embryo\\\" and you are not requesting a specific embryo.\\n\\n[INST] We only have one [INST] Can you send him the link? He said he cannot find it haha [INST] Or to me, and I can forward it [/INST] I just resent that link to his email now for him to create his account and to sign!!\\n\\n[INST] He's on it!! [PERSON] [/INST] Thank you!\\n\\n[INST] Let me know when you get it... Haha. Just so I can keep bugging him if he didn't [/INST] I got it!\\n\\n[INST] [ORG] awesome! [INST] Is my husband allowed to be with me for transfer? Haven't done this yet, so don't know what to expect! [/INST] [GPE]\\n\\n[INST] Yay! Omg. I'm so excited!! [/INST] \\n\\n[/INST] Hi Kelly! I released your updated transfer calendar to your nAble portal for you. Reach out to us next Wed for your transfer time for 3/17 \\ud83e\\udd0d\\n\\n[INST] Yayy!! [PERSON] Random question (I am probably totally overthinking this )... It says I will start my progesterone shots [TIME]. We did [TIME]... But if the time changes on [DATE]. Should I do it [DATE] at [TIME] so that I start [DATE] at [TIME]? [INST] Or do we switch to [TIME] [DATE] hits? \\ud83e\\udd23 [INST] Oh! Sorry one more thing. I don't have any [LOC], will a prescription be sent in? Thank you! [/INST] I just sent that over for you!\\n\\n[INST] Thank you so much!!! [INST] Good Morning! Messaging for my transfer time [DATE] \\ud83e\\udd73[DATE] [/INST] Transfer scheduled for [DATE] [TIME] - Drink 20oz water [TIME] ([TIME]) prior to scheduled transfer. - Do not urinate as a full bladder is needed for ultrasound guided embryo transfer. - Take all your medications [DATE] like normal. - No diet restrictions. - Arrive [TIME] - Transfer will take [TIME]. - Light activity at home the rest of [DATE]. -You may have one support person with you for procedure. - Positive thoughts!!\\n\\n[INST] Thank you! [INST] I saw my portal was updated :) Looks like my [ORG] level was good! I hope \\ud83e\\udd1e \\ud83e\\udd23 What would be my next steps? I wasn't sure if you guys called for the second beta [PERSON] [/INST] Hi kelly your tsh was good you can stay on the 50mcg it was 0.855\\n\\n[INST] Perfect! Thank you! [INST] Is it ok to resume sexual activities? We did [TIME], and I didn't even think about it and now I'm panicking. I know it's so early, and I'm probably over thinking it and have slight cramping. [PERSON] [/INST] Hi [PERSON]! That's ok...you have your first ob appointment [DATE]...you can always ask Dr. [PERSON] for further guidance about resuming intercourse. We do typically say to wait until your pregnancy testing (which you did!), but to stop if it causes any discomfort, etc. [PERSON] cramping can be very normal in early pregnancy, as well as, some brown/pink spotting when wiping as well.\\n\\n[INST] Ok thank you! Just wanted to be sure! [PERSON]\\ud83e\\udd23 [/INST] \\ud83e\\udd0d\\n\\n[INST] [DATE] I started spotting and cramping got significantly worse, today I have chunky/clot looking spotting that's heavier. Is this still normal? [INST] hello I'm not really sure what to do next. I know you mentioned talking with Dr. [PERSON], but I know we don't have any embryos and or funds for another round of [ORG]. We still want a baby so badly, and just don't know what to do. [/INST] Aww I'm so sorry! We can schedule a consult for you with Dr. [PERSON] and she can guide you on other options\\n\\n[INST] Okay, I would like to set that up. [/INST] Okay we can do that\\ud83e\\udd0d Dr. [PERSON] is currently scheduling for the end of May- she is extremely booked right now is that okay? Unfortunately, there is not anything earlier!\\n\\n[INST] Oh wow, ok. I was hoping to maybe try some medicated cycles right away in the meantime. Let's schedule, and let me know if any cancellations, please. [/INST] I can schedule your virtual consultation for 5/24 at [DATE] with Dr. [PERSON]. I will definitely keep an eye out for any cancellations on her schedule for you!\\n\\n[INST] Thank you [INST] Good Morning, my husband and I think we're going to go for a second round of [ORG]. Is it still $[MONEY] (with [ORG]) for [DATE]? We don't have our appointment with Dr. [PERSON] until [DATE], is there anything we can do in the meantime to prep for a hopeful [DATE] retrieval? Like start birth control sort of thing to be on schedule? Or supplements? [/INST] No, you will have to wait until after your consult to start anything we will have you speak with the financial dept after your consult as well \\ud83e\\udd0d\\n\\n[INST] Okay, thank you. [INST] Do you have a list of endocrinologist that Dr. [PERSON] recommends? I would like to continue regulating my thyroid since it's always up and down. \\ud83e\\udd23 Thank you! [/INST] I totally understand - I do not think she has any specific she recommends. Just one that takes your insurance\\n\\n[INST] Sounds good! Easy enough :) Thanks! [/INST] You are so welcome! \\ud83e\\udd0d\\n\\n[INST] Good Morning! Can I get refills on LEVOTHYROXINE 50 [ORG] sent to my pharmacy? Thank you!! [PERSON] [/INST] I have sent that in for you [PERSON]\\n\\n[INST] Thanks [/INST] Greetings! Please be aware that you will owe $[MONEY] at your upcoming visit. This includes any balance on your account and/or any applicable fees for your visit. Thank you.\\n\\n[/INST] Hello! My name is [DATE] and I am your dedicated financial coordinator. This is my direct line of communication so please save this number to your phone! Please note, this is a text only line. I look forward to working with you!\\n\\n[INST] Hi [DATE]! Thanks for messaging me! [/INST] No problem! :)\\n\\n[INST] Has pricing gone up from [DATE]? We paid 14,500 with [ORG]? [/INST] Yes we did raise our prices [DATE].\\n\\n[/INST] Hi [PERSON] - touching base after your consult. Are you currently on birth control?\\n\\n[INST] Hey! Yes I started active pills on 5/22. My period began on 5/17. [/INST] Did Dr. [PERSON] have you start it?\\n\\n[INST] No, I began it to keep on a schedule, but I mixed up my pill start day. [/INST] Okay no worries - things will just have to move a little quicker now - are you going to be ready to start [ORG] [DATE]?\\n\\n[INST] I can be ready! My only question is that I started the supplements just [DATE]. Is it worth it to give them time to work? Or does it really not make that much of a difference. [INST] Oh wait, you know what hold on. We're doing a 401k loan. I have to see what day the money is deposited. What would be the payment date? [/INST] It would be due at your baseline, which would be 5/31/22\\n\\n[INST] If I had to wait in this cycle, what would be our next start date. I'm thinking with [DATE]... It might not get deposited in time \\ud83e\\udd7a\\ud83e\\udd7a [INST] I'm going to call and find out though. [/INST] I would have you stop your pill - have a with draw bleed and then reach out with [DATE] cycle to get started since we cannot keep you on birth control for [DATE] of them.\\n\\n[INST] But more time with my supplements might be a good thing? \\ud83e\\udd23 [INST] Okay, makes sense. Let me see what I can find out. We just submitted the bill from you guys [DATE] so I'm thinking we will probably have to miss this cycle. I'm doubting we can get it deposited in time. [/INST] More time on the supplements is correct! \\ud83e\\udd70\\ud83e\\udd70 - that is no problem at all. We can do next cycle. Let me know! We do need to bring you in to update some labwork though! Are you free to come in and do that [DATE]?\\n\\n[/INST] Actually - I would need you to go to a labcorp near you for these \\ud83e\\udd0d could you do that?\\n\\n[INST] I'm actually off [DATE], so I'm free! Dr. [PERSON] mentioned starting me on metformin and possibly doing a chromosome test for my husband and I too? I don't remember if she fully decided to do it or was just thinking out loud. [INST] Ok, my husband checked on the deposit date and they're saying end of [DATE] or [DATE]. So unfortunately we will have to skip this cycle. [INST] I'm here at [ORG] and there are two orders in the system and the nurse is asking if we do both? [/INST]  ext [DATE]\\n\\n[INST] Ok, all done. The lady was very confused about every thing \\ud83e\\udd23 I hope it's all set! [/INST] Some of the people at labcorp definitely get confused easily lol - I will look out for the results - thank you for doing that all [DATE] \\ud83e\\udd0d\\n\\n[INST] No problem! [INST] Good Morning! Hope you had [DATE]! Quick question... My husband got a notification for our genetic testing ([ORG]) and when we logged in, it looks like we already had this test done? I see results for 4/2021 or is this a different one? [/INST] Who did you receive a notification from?\\n\\n[INST] Sema4, it says expanded carrier screening? [/INST] He has already had that done - we sent his karyotype to [GPE] as well I am not sure if that is why he is receiving a notification.\\n\\n[INST] Just checking! Haha. It was weird! \\ud83e\\udd23 [/INST] That is super weird! lol maybe it is automated?\\n\\n[INST] That's what I was thinking? I'll keep a lookout for mine! [/INST] Haha that is what I was about to say - if you get one you will know it was automated! haha.\\n\\n[/INST] Hi [PERSON]! Your thyroid came back ever so slightly low at 0.376. Dr. [PERSON] wants you to stay on 50 mcg, but on [DATE] and Sunday just take [DATE] a tablet [DATE]!\\n\\n[INST] Sounds good! I saw my glucose was high too, is metformin also for that? [/INST] [PERSON] and the [ORG] powder both can help with that! You are good to start that metformin!\\n\\n[INST] Awesome! I know it's known to make you feel, meh. Is it ok to take [TIME]? That way I bypass that during [DATE]? \\ud83e\\udd23 [/INST] You will want to take it after dinner if you want to take it in the [TIME]!\\n\\n[INST] Perfect! Thank you! [INST] Quick question, sorry. I don't want to be a bug. I started my bleeding from the birth control. And it's super heavy. I'm on [DATE], and I'm going through ultra tampons [TIME]. Is that normal? [/INST] I do not want to say normal, but it is not abnormal - let me know if you start feeling like lightheaded or having any pain or anything! You are never bugging me \\ud83e\\udd0d\\n\\n[INST] Ok, that's good. I was a little worried. I'm so afraid it's going to prolong starting our retrieval I am assuming my period won't come at it's normal time. [/INST] It should! This is just a withdraw bleed so you may still start your cycle when you are supposed to!\\n\\n[INST] Oh good! That made me feel better. I'll just waiting is hard lol [/INST] I completely understand that \\ud83e\\udd0d\\n\\n[INST] Good Morning! [DATE], I started spotting. Heavy spotting. Brown color, and no red. Should I be concerned? [PERSON] what's going on with my cycle [DATE] [PERSON]\\ud83e\\udd23 [/INST] No - that just sounds like the start of your cycle - it is just old blood - let me know when it reaches full flow red blood! \\ud83e\\udd0d\\n\\n[INST] Thank you! Hopefully it comes! [PERSON] [/INST] I am hoping so too periods can be so weird! lol\\n\\n[INST] So, I'm still just spotting brown grossness. I am having thick tissue like clots coming out, and I'm cramping pretty bad. It is not usual for me to have this much spotting before a period. Could metformin do this? [/INST] It could be - typically brown is still old blood. Hmmm.\\n\\n[INST] Yeah, unless I have some major tissue left over from my miscarriage and it's just taken [DATE] to free itself? [INST] It's just weird... [/INST] I mean maybe but it is weird - did you have a withdraw bleed after stopping the pill?\\n\\n[INST] I did, and it was full bleed [DATE] [/INST] Okay then I think we should just give it a little longer and see if you start bleeding.\\n\\n[INST] Okay sounds good. Based on my calendar it says the 19th is when my period is due, and it's typically fairly accurate. [/INST] That is what I was kind of thinking. We will see where we are at come that point. If you happen to go [DATE] since your last actual period we can bring you in and check things out but I think we still have some time.\\n\\n[/INST] That is what I was kind of thinking. We will see where we are at come that point. If you happen to go [DATE] since your last actual period we can bring you in and check things out but I think we still have some time.\\n\\n[INST] This bad [INST] Alright, good plan. The anxiety of having to push out our next round of [ORG] is getting me. I never wanted my period to come like this before [/INST] Oh girl. I totally understand\\n\\n[INST] Good Morning... So spotting has all stopped. So who knows??? Haha. Random question that I'm not sure you can answer. My company decided to throw out a mandatory meeting in SC July 11th through 14th. Lets say my period does start by [DATE]... according to a typical [ORG] schedule. I am thinking there is no way I could go to this? I'm trying to remember what I did for my first round... I'm planning on telling them I can't because I have surgery coming up, or something like that... [/INST] It will depend on your cycle. If you start by [DATE], you would start [ORG] [DATE] and then no, you [PERSON] could not go. However, if you do not start by [DATE], your week to start [ORG] would be the 11th of [DATE] and you would need a baseline so yea, you probably cannot go either way lol\\n\\n[INST] Yep... Thanks for confirming my thoughts! I'll tell them no [/INST] Yay!! haha you are so welcome \\ud83e\\udd0d\\n\\n[INST] Good [TIME]! Unfortunately, no period yet. However, [ORG] called and let me know that I do not have any refills left for my levothyroxine or however you spell it hahaha. [/INST] Hi [PERSON]! We'd like to check your [ORG] level to see if your current dosage is working for you! Are you able to come into our [GPE] office [DATE] or [DATE] to have this drawn? With that result, we can adjust your medication (if needed!) and call in a new refill for you! :)\\n\\n[INST] I can come in [DATE] [/INST] Perfect! Can I schedule you at [TIME] here in our [GPE] office :)\\n\\n[INST] Yep! [/INST] Great! Have you scheduled!\\n\\n[INST] Thanks! [/INST] You are so welcome! Quick question...can you confirm your current dosage? [DATE]?\\n\\n[INST] Yep! [DATE] and [DATE] [DATE] a week. [/INST] Thank you! :)\\n\\n[INST]  [INST] Good Morning! My period still has not started [ORG][ORG] Do we keep waiting? It was supposed to start on [DATE]. [INST] I'm thinking because of all the spotting... I have no idea when it will actually come \\ud83e\\udd23 [/INST] Do you want to get scheduled to come in for a baseline on [DATE]? We will do an ultrasound and bloodwork and if they look good we can have you start medications on [DATE] and that will give me time to get your medications ordered\\n\\n[INST] Yes! That would be amazing \\ud83e\\udd29 [/INST] How about [DATE] at [TIME]?\\n\\n[INST] Perfect [/INST] I have sent most of your medication to [ORG] pharmacy. They should contact you for shipment and payment. If you do not hear from them by [DATE] - I would call them (800) 660-4283. The only medication they do not carry is omnitrope. That is the growth hormone. I called that in to NewEra pharmacy. They will contact you as well!\\n\\n[INST] Awesome! Thank you! [INST] I'll let you know if [PERSON] makes a surprised entrance \\ud83e\\udd23 [/INST] [PERSON] sounds perfect!! [PERSON]\\n\\n[INST] Oh is payment due [DATE] then? I was going to get a cashier's check. [/INST] Yes ma'am it will be due [DATE] \\ud83e\\udd0d\\n\\n[INST] Sounds good! [INST] Hi [DATE]! I'm coming in for my baseline for [ORG] on [DATE]. I'm going to get a cashier's check for the payment. Is the amount still correct that is on the portal? [INST] I don't know where they would accept it? If I could save 417... That would be amazing [INST] She said [PERSON] and integrity take it? I don't know if those are options to send the script to. [/INST] Who said this? It looks like your specialty pharmacy is express scripts which is Freedom pharmacy.\\n\\n[INST] A friend of mine who went though [ORG]. [INST] It's just a way to save on omnitrope since it's not covered through insurance [INST] It's 800.00 for two vials [ORG] haha. This would at least get me one vial for free [/INST] [PERSON] is never covered by insurance unfortunately.\\n\\n[INST] Yeah, it stinks! That's why I was hoping to use that discount card to get at least one vial free, but not everyone takes it. Is it possible to send just that script to a different pharmacy? [/INST] We always send [PERSON] to [ORG] - they are one of the only pharmacies who carry it.\\n\\n[INST] Ohh ok. [/INST] I have never heard of a discount card for omnitorpe - you are welcome to call the pharmacies and let me know if they will accept it but this is the first time I have ever heard of one \\ud83e\\udd0d\\n\\n[INST] Okay, I might do a little research... If not I'll go ahead and order it though new era [/INST] Sounds perfect! \\ud83e\\udd0d\\n\\n[INST] Hey, my friend told me about this coupon and I signed up. Have you heard of others using this for omnitrope? I talked to new era and it sounds like they don't accept it or she didn't know what I was talking about . [INST] Ordered it through new era! So in case someone else asks... [ORG] does accept it, but it takes forever to get it, sounds like they work close with C[ORG]...And [GPE] specialty pharmacies won't supply omnitrope for fertility reasons... She was in [ORG] so that's why she was able to use the discount! [/INST] [ORG] that makes total sense and probably why I have not heard about it!\\n\\n[INST] Booo [GPE]! [PERSON] [/INST] That is how I feel a lot of the time\\n\\n[INST] Same [INST] Oh! I meant to ask. Did my thyroid come back ok? Do I keep my meds the same? [/INST] It was perfect at 0.595!\\n\\n[INST] Yay! [/INST] Do you need refills?! \\ud83e\\udd0d\\n\\n[INST] I think I'm good! Thanks! [INST] Actually looking at my [ORG] account, I think I need metformin? For some reason it says on hold? [/INST] Have you been taking [PERSON]?\\n\\n[INST] Yeah, Dr. [PERSON] put me on it [DATE]. I think 750mg [INST] I just got a call from [ORG], everything went through except the lupron. That one needs pre authorization. [/INST] That is what I thought - I wanted to make sure before I sent more in but I sent it to [ORG] \\ud83e\\udd0d and perfect - I have sent a message to our prior auth team to get the prior auth!\\n\\n[INST] Woohoo! You're awesome! Thank you! [/INST] You are so welcome girl \\ud83e\\udd0d\\n\\n[/INST] Greetings! Please be aware that you will owe $[MONEY] at your upcoming visit. This includes any balance on your account and/or any applicable fees for your visit. Thank you.\\n\\n[INST] Is lupron typically covered? [INST] Boo, I just got a call from express scripts and they denied my prior authorization for [GPE]. Although, I think I should still qualify. The person on the phone said it was because I need to have proof of ovarian failure? Something like that. [/INST] Hmmm. Can you call and ask if they would cover it for infertility. It is a trigger shot for [ORG].\\n\\n[INST] They said they sent a message back to the clinic too? I asked about that, but that woman did not know. [INST] Okay, so they said that [ORG] needs to respond or appeal it. [PERSON] is always such a pain haha [/INST] Hmmm, we have not received anything but we typically do not do appeals for meds\\n\\n[INST] Hmm... I don't know what to do. They said the clinic can send another authorization. I wonder if it's just a wording issue? [/INST] Our prior authorization team also talked to Freedom and said your insurance denied the claim.\\n\\n[INST] They said we need to show proof of tubal obstruction or ovarian failure needs ruled out. Something like that... Of course they said they would snail mail me the reason. [INST] So I don't have the actual denial wording. [INST] I feel like they are just not understanding what it is for and I don't know how to speak the language \\ud83e\\udd23\\ud83e\\udd23\\ud83e\\udd23 [/INST] I tried to call - let me know when a good time to talk is \\ud83e\\udd0d\\n\\n[INST] Oh! I'll call in about 15-20min. Had a work luncheon [/INST] Hi [PERSON]! Yes the amount on the quote is correct. See you [DATE]!\\n\\n[INST] Oh I just realized it said [TIME]! Last time we did [TIME]. Anything special for that? Like timing wise? [INST] Evening for injections [INST] Oh wait I just saw the note on top \\ud83e\\udd23 ignore me [/INST] Yay! So glad you got that \\ud83e\\udd0d no worries I meant to tell you it was up there! lol\\n\\n[INST]  [/INST] Hi love! I have released your calendar to you! You are going to stay on all meds. [DATE] - you will start the ganirelix. This is the antagonist to prevent you from ovulating. You will choose a [TIME] window in the morning to take it. Then, you will come back on [DATE] for a scan! \\ud83e\\udd0d\\n\\n[/INST] Cetridtide not ganirelix. Same medication but I know you have certitide.\\n\\n[INST] Perfect!! Thank you! Did Dr. m mention how many follicles I had? She was training and I didn't even think to ask [/INST] 9 follicles \\ud83e\\udd0d\\n\\n[INST] Not bad! She couldn't get a read on my left ovary I think [PERSON] [/INST] There were 4 on your left \\ud83e\\udd0d\\n\\n[INST] Oh! Really. I had so much more last time. [PERSON], could more still grow at this point? I can talk with her about it on [DATE]. I'm feeling a little anxious about those numbers. I responded faster with more last time. [/INST] They still have time to grow. Don\\u2019t be discouraged \\ud83e\\udd0d\\n\\n[INST] I hope!! This is our last round, since we are now broke hahaha. So I'm feeling a little more anxious this time around. Also, thanks for being so responsive. I know it was [TIME] when you were still texting me \\ud83e\\udd70 [/INST] I totally get it and I am sending all of the positive vibes and baby dust your way. I want this so much for you! \\ud83e\\udd0d I am always here for you! \\ud83e\\udd0d\\n\\n[INST] Good Morning!! I only have 19 units of omnitrope left. Is that ok? Should I use it up [TIME]? Or do I need more? [/INST] With [PERSON] you just take it until it is gone! So [DATE] you just take whatever you have left and then you are done with it\\n\\n[INST] Oh perfect!! [/INST] \\ud83e\\udd0d\\ud83e\\udd0d\\ud83e\\udd0d\\n\\n[/INST] Hi love! I have released your calendar! You are going to come back and see Dr. [PERSON] [DATE] \\ud83e\\udd0d all of your medications will remain the same!\\n\\n[INST] Sounds good!! Did I have more follicles? Or are they just not at the size for triggering yet? Just curious [/INST] She is thinking maybe a trigger [DATE] \\ud83e\\udd0d\\n\\n[INST] Works for me! [/INST] You have 13 total follicles she just wants to let grow a little more!\\n\\n[INST] Yay!! Sounds great! Thank you! [INST] Good Morning!! Can I pick your brain? So, I spoke with Dr. M this morning and she told me that my estrogen was much lower then [ORG] round #1 at trigger and that's why she's waiting [DATE] or two. Could you explain what that means? Since I have egg quality issues, is she worried that the quality could be low? I was doing [ORG] searches and getting mixed answers [PERSON]\\ud83e\\udd23 [/INST] Haha you poor thing. I will have to talk to Dr. [PERSON] what she is thinking. She could be worried about egg quality. Estrogen signals the follicles to grow. It looks like she wants to trigger you [DATE] or possibly [DATE].\\n\\n[INST] Okay, she's probably waiting to see what the bloodwork says :) It's all such a science and can be confusing! I'm all for egg quality, so if there is any doubt... I'd rather regroup and try again then just triggering. As much as I hate it , but obviously want the best outcome. This is our last round, so want to get the best results! [/INST] I want the best results for you too \\ud83e\\udd0d\\ud83e\\udd0d\\n\\n[INST]  [/INST] Hi love - just letting you know you are going to trigger [DATE] night for [DATE] retrieval. You do not need to come in [DATE]. You will take your meds [TIME] and then take your Cetritide in the morning and then you will be all done with stim meds. I will give you the time to trigger, your instructions and when your retrieval will be [DATE] [TIME] \\ud83e\\udd0d\\ud83e\\udd0d\\n\\n[INST] Sounds good! \\ud83e\\udd70\\ud83e\\udd70\\ud83e\\udd70 Thank you! [/INST] I have released [ORG] to your portal! Please read over them and let me know if you have any questions! On [DATE] of the retrieval - your partner will provide a fresh sample. If he wants to collect at home - you can pick up a specimen container [DATE] - it just has to make it here [TIME] after collection \\ud83e\\udd0d\\n\\n[INST] [ORG]!! Sounds good. I'm getting nervous . So ready though, haha. [/INST] I am super excited for you girl! Hoping for the best results for you \\ud83e\\udd0d\\n\\n[INST] Thank you! [/INST] Your labs look great! \\ud83e\\udd0d see you [DATE]!!\\n\\n[INST] Yayy!! Thanks!! [INST] Hey! I see we only had 6 fertilized Do you know if there are any notes on the quality? There were initial notes last time, and I was hoping they were maybe in better shape. [/INST] 6 is a good number!! I do not see any additional notes that they made. You are welcome to call the embryology office on [DATE] and ask them about them! They will be updating you on [DATE] of how many made it to blast and they were able to biopsy \\ud83e\\udd0d\\n\\n[INST] Good Morning! Is there a way I can speak with Dr. [PERSON] either in person or through the phone? Even if it's for [DATE]? I did call the lab and we have quality issues again ... The notes were just not in the system yet. I'm feeling a bit panicked because with only 6 fertilized, we lost all but one embryo last round and it was most likely due to quality. I don't know what to do and just kinda want to see what she's thinking. [/INST] Hi [PERSON] - unfortunately Dr. [PERSON] is unable to speak [DATE] but I can schedule you a [TIME] consult [DATE] to talk to her virtually at [TIME]!\\n\\n[/INST] I am so sorry this cycle did not go as your wanted it to\\n\\n[INST] That would be great! Oh and thank you. I just have that gut feeling, you know? Like either we are going to end up with zero or one again and I want to take a pause before continuing. [/INST] I totally understand girl \\ud83e\\udd0d I think that sounds like the perfect plan!\\n\\n[INST] Oh and if Dr. [PERSON] needs to know the notes were on my chart on my ART Report Summary. I don't know if she could see the notes on quality before our meeting Thank you so much!!! [/INST] She will be able to view them \\ud83e\\udd0d you are so welcome!!\\n\\n[INST] Good Morning! I saw [DATE] that we have 3 being sent off for testing. Do you know the grading of the 3 embryos? I hope we at least have a little more fighting chance if they are good quality [/INST] I unfortunately do not know the grading but you can speak with embryology about it \\ud83e\\udd0d\\ud83e\\udd0d So happy for you!\\n\\n[INST] Is there a way I can message them? [/INST] I sent them a message for you\\n\\n[INST] Thanks! [INST] I got the grading! Thanks! All 4BB [/INST] YAY that is wonderful! \\ud83e\\udd0d so glad they got back to your so quickly!\\n\\n[INST]  [INST] Hello! My period just started. I couldn't remember if I was supposed to let you know or not, so I'm possibly over sharing \\ud83e\\udd23\\ud83e\\udd23\\ud83e\\udd23 [/INST] [PERSON]!!! This is so weird I was just texting you to ask if you started a period yet\\n\\n[INST] Really!? Haha SO STRANGE [/INST] Yes I literally was sitting at home, creeping to see if by chance your [ORG] results were in bc I was thinking about you and was like wait [TIME] - I don\\u2019t think she\\u2019s told me she started a period so I started texting you and you message popped up\\n\\n[INST] I'm sooooo nervous about these results I hope they come in soon! That's still so crazy though hahaha. Maybe it's a good sign! Haha [/INST] I\\u2019m praying for the best results for you \\ud83e\\udd0d so what we need to do is get you started back on birth control on [DATE]. Then, we need to plan a hysteroscopy since it\\u2019s been over [DATE] since your last. Dr. [PERSON] is going to be out of the office for a little bit coming up here, but that\\u2019s okay because we can schedule it for when she\\u2019s back and we should know the genetic results by then so if by chance, they don\\u2019t go as expected, we can cancel the hysterscopy and touch base about next steps! [GPE] that isn\\u2019t going to happen, the results are going to come back good and we can proceed with the hyst then transfer \\ud83e\\udd1e\\ud83e\\udd1e\\ud83e\\udd1e [PERSON]\\n\\n[INST] Thank you!! I'm praying for it too! \\ud83e\\udd1e\\ud83e\\udd1e\\ud83e\\udd1e\\ud83e\\udd1e Yay... Hysteroscopy, my favorite hahaha. What date are you thinking for that? We were thinking of taking a little trip, so we can plan around it! :) [/INST] I was thinking [DATE] at [TIME]?\\n\\n[INST] Oh wait... I think I have a work event... Is there an appointment [DATE]? I have to double check with my boss, but I think we have meetings M-W [DATE]. [/INST] How [TIME] on the 18th? \\ud83e\\udd0d\\n\\n[INST] Perfect!! [INST] So would transfer potentially be in [DATE] then? If all is good? [/INST] Yes ma\\u2019am \\ud83e\\udd0d\\n\\n[/INST] [ORG] up and collect urine sample. It can be in any old pill bottle or any container with a tight-fitting lid. We need to document a negative urine pregnancy test before we do any procedure here in the office. (Bring sample to office with you) \\u2022 Empty your bladder before leaving your house to come to office. On your way here we want you to drink a full water bottle (16oz) of water. We do want you to have a full bladder for the procedure it will help visualize the uterus. \\u2022 Take 600-800mg of [LOC] prior to scheduled procedure. There is some cramping during and after the procedure. \\u2022 What the Hysteroscopy is for? We are looking to make sure there are no polyps or fibroids in the uterus prior to transfer of the embryo. \\u2022 Please arrive [TIME] early. Please wear a mask. Hysteroscopy's are all done the at the [GPE] office.\\n\\n[INST] Perfect!! Thanks! [/INST] You are so welcome \\ud83e\\udd0d\\n\\n[INST] I just got a call from igonemix... I couldn't get to my phone, but heard the voicemail. [INST] I'm hoping it's not a bad sign [/INST] Did you sign the consents in the email they may have sent you?\\n\\n[INST] They just sent it! Man... I was shaking \\ud83e\\udd23 [INST] Does this mean they're done? Haha or they havent started yet haha. Ugh, I hate this wait. [/INST] Phewww - I figured that is what they wanted\\n\\n[INST] Haha, I wish they would have just said that in VM \\\"check your email\\\" [PERSON][PERSON] Would have been so much less stressful [/INST] [PERSON] you're so silly! Hopefully your results will be coming soon!\\n\\n[INST] I hope so, too \\ud83e\\udd1e [INST] Starting [INST] Good morning am I started bc [DATE]? I'll need a prescription sent over :) [/INST] I have sent that in for you \\ud83e\\udd0d\\n\\n[INST] You're the best! Thanks! [/INST] You are so very welcome! \\ud83e\\udd0d\\n\\n[INST] Is the pgt results on my nAble app? [INST] I'm not going to open it yet, just want to make sure I know where it's at when the hubs and I open it [TIME] [/INST] Yes ma'am! They are there for you \\ud83e\\udd0d\\ud83e\\udd0d\\n\\n[INST] [ORG]!! [INST] Good Morning Question... This has been on my mind since our last round of [ORG]. We have one embryo that was listed as abnormal, but we talked to a embryologist and the genetic counselor and both said that the embryo is viable for life as it's only missing [DATE] of a an arm of DNA. So literally [DATE] is missing for it to be considered \\\"normal\\\". It literally kills me to think we would discard it knowing it's viable. All other embryos I totally understand, but this one keeps me up at [TIME] . I talked to Dr. [PERSON] about this one before we started this round of [ORG] and she said she would have to do some research on it before we decided on a transfer. Now that we only have one again, I want to open that conversation with her again. Is that something I need to make a consult appointment with her about it? Just curious if anyone else has taken these steps before with an abnormal? [/INST] Good morning [PERSON]! I totally understand and if you want - I have an 8 am consult open on 8/17/22 if you want to have a consult with Dr. [PERSON] about this \\ud83e\\udd0d\\ud83e\\udd0d\\ud83e\\udd70\\n\\n[INST] That would be perfect!! Thanks for understanding . They still feel like my babies even though they're little clumps of cells \\ud83e\\udd23 [/INST] You are so welcome and I totally understand and would feel that same way \\ud83e\\udd0d\\ud83e\\udd0d\\n\\n[INST]  [INST] Hey, hey! I keep forgetting to text ya! Can we add a thyroid check to the calendar? Maybe at my hysteroscopy appointment? That way if we need adjustments I have time to do so before transfer [/INST] I have added that to your appt [DATE] - are you currently taking 50 mcg?\\n\\n[INST] Thanks! Yep! 50mcg m-f and half dose sat/[DATE] [INST] Hey! So, randomly [TIME] I have giant red blood clots coming out. Like big... Haha. [DATE] size, quarter size, and some little ones too. I haven't missed a pill! Should I be worried? [/INST] Hi [PERSON], Dr. [PERSON] was having computer issues and wants to call you to finish the consult.\\n\\n[INST] Yeah, I see she tried calling back, but my phone blocked it as a spam call, so I didn't see it \\ud83e\\udd23\\ud83e\\udd23\\ud83e\\udd23 she texted me and said we can chat [DATE]. Thank you!! [/INST] I'm glad you two were able to connect. Have a fabulous day!\\n\\n[/INST] It will be okay! As long as you are not heavy bleeding for your hysteroscopy \\ud83e\\udd0d[ORG]\\n\\n[INST] Sounds good! My talk with Dr. [PERSON] went well too! We got cut off early, and of course when she tried calling me back my phone thought it was spam and blocked her so we will finish our call [DATE]. [INST] Thanks you too!! [/INST] Haha well I am glad it went well \\ud83e\\udd0d\\n\\n[/INST] Greetings! Please be aware that you will owe $[MONEY] at your upcoming visit. This includes any balance on your account and/or any applicable fees for your visit. Thank you.\\n\\n[INST] Do you know why these two pelvic ultrasounds were not covered, but others were? If I'm reading the bills correctly it looks like the ultrasounds were not covered? [/INST] Hi love - my message did not send [DATE] but I called in the medrol dose back and the rest of the oral meds for your transfer to your local pharmacy. I am working on your calendar - I will have it to you [DATE]!!! Just stay on active birth control pills for right now \\ud83e\\udd0d\\n\\n[INST] Sounds good! I hope you have a great weekend! [/INST] I hope you do too!!! \\ud83e\\udd0d\\n\\n[INST] Hey!! I was thinking [PERSON] Should I still be taking metformin? I know we did that for helping egg quality, but didn't know if it was good for transfer [/INST] Yep you can stay on it the whole time you are here if you are on it! It is safe during pregnancy as well.\\n\\n[INST] Oh perfect!! [/INST] I almost have your calendar done - just making sure it is perfect \\ud83e\\udd0d\\n\\n[INST] Yay! I'm getting excited [/INST] I\\u2019m super excited for you \\ud83e\\udd0d\\n\\n[/INST] I have released your calendar to you! \\ud83e\\udd0d and I am going to send your [PERSON] and progesterone in to Freedom!\\n\\n[INST] [ORG]!! Thank you!! One question... My [ORG] noted that I needed to take a vaginal probiotic, do I have to do that again? [INST] ERA haha [/INST] Yes ma'am! You will start it [DATE] you start [ORG] - as long as you are not bleeding and will take it for [DATE]\\n\\n[INST] Oh, I must have missed it Do you have the list they recommend to use? The one I used last time was awful haha. It never dissolved right and left it's shell for me [TIME] [/INST] https://www.amazon.com/FloraFemme-Probiotic-Suppository-Antibiotics-Prevention/dp/B007HWMI6S/ref=sr_1_1_sspa?dchild=1&keywords=flora+femme&qid=&sr=8-1-spons&psc=1&spLa=ZW5jcnlwdGVkUXVhbGlmaWVyPUEyRDk2UlBUUkJTV1ZRJmVuY3J5cHRlZElkPUEwODU5NTE1MkVVSE80WTRUU1JGQSZlbmNyeXB0ZWRBZElkPUEwMDcwMDIxMkU5TUJETEk4TkRDMiZ3aWRnZXROYW1lPXNwX2F0ZiZhY3Rpb249Y2xpY2tSZWRpcmVjdCZkb05vdExvZ0NsaWNrPXRydWU=\\n\\n[/INST] https://www.amazon.com/Biom-Probiotics-Vaginal-Probiotic-Suppository/dp/B07DGN1ZFH/ref=sr_1_1_sspa?crid=4OWJWSJJI457&dchild=1&keywords=biom+vaginal+probiotics&qid=&sprefix=biom+vaginal%2Caps%2C162&sr=8-1-spons&psc=1&smid=A19KQSGY25IMD0&spLa=ZW5jcnlwdGVkUXVhbGlmaWVyPUExMUJCSzAwMUZHSFJEJmVuY3J5cHRlZElkPUEwNDMyOTkxM1RWQ0VPUDZWQ0cwUyZlbmNyeXB0ZWRBZElkPUEwNTIyODc3M0w1Nk1WSzRFSVNMTyZ3aWRnZXROYW1lPXNwX2F0ZiZhY3Rpb249Y2xpY2tSZWRpcmVjdCZkb05vdExvZ0NsaWNrPXRydWU=\\n\\n[/INST] Are you taking the oral probiotic too, twice a day?\\n\\n[/INST] If not - you should start on that as well \\ud83e\\udd0d\\n\\n[INST] I have been, but once a day! I'll start that twice a day today! Thanks sooooooo much you are the best!! [/INST] You are so very welcome girl!!!! I am so excited for you \\ud83e\\udd0d\\ud83e\\udd0d\\ud83e\\udd0d if you have any questions or concerns, please let me know\\n\\n[INST] Will do!! [INST] Hey! I thought of one more question My thyroid, did that come back ok? Should I take meds as normal? [/INST] Yes ma'am it looked perfect! \\ud83e\\udd0d\\n\\n[INST] Yay! [INST] My insurance is giving me issues with lupron again... They are sending a prior authorization over! Hopefully, it goes through!! Also .. side note. I started bleeding... It's not heavy, but I still need a pad. It's like black... So I'm assuming my body is confused why I'm still on birth control. Just want to make sure it's ok! [/INST] It is okay - probably just break through bleeding! No worries. And I will send a message to our prior auth team. If it is not covered - I can send it to NewEra. They may have cheaper self pay pricing if you do not have coverage but we will see if you do!\\n\\n[INST] Okay! Perfect Anyway I can save [MONEY] that would be great! [/INST] Of course! \\ud83e\\udd0d\\ud83e\\udd0d I am with you girl!\\n\\n[INST] I know it, you are amazing!! [INST] [PERSON] insurance approved my lupron!! \\ud83e\\udd73\\ud83e\\ude85 It all gets delivered [DATE]!! [/INST] Oh my gosh this makes me heart so happy\\n\\n[INST] Me toooo! Literally cried a bit, cause I'm a big baby hahaha [/INST] Girl, I\\u2019m a big baby too! I teared up when you texted it\\n\\n[INST] Love it! You're seriously the best! [/INST] Awe, thank you! I\\u2019m so lucky to be your navigator \\ud83e\\udd0d\\n\\n[INST]  [/INST] Greetings! Please be aware that you will owe $[MONEY] at your upcoming visit. This includes any balance on your account and/or any applicable fees for your visit. Thank you.\\n\\n[INST] Hi [DATE]! I just got this message? I'm assuming it was a mistake [ORG] [/INST] Hello. It is incorrect. You have a balance of $[MONEY] that is due. That's all\\n\\n[INST] Sounds good! Haha. Thanks! I was shocked for a quick second [/INST] aww lol glad I could help. Good luck [DATE]!\\n\\n[INST] Thanks! [/INST] Hi my dear! Things look great [DATE]! \\ud83e\\udd0d you are good to follow your calendar and start your estrace and baby aspirin [DATE] and also decrease your [PERSON] to 5 [GPE]! \\ud83e\\udd0d\\n\\n[/INST] Let me know if you have any questions \\ud83e\\udd0d\\n\\n[/INST] And then just make sure [PERSON] signs the thaw consent \\ud83e\\udd0d\\n\\n[INST] [PERSON]!! Thank you!! Oh, yes! I will make sure [/INST] Yay!! You are so welcome! \\ud83e\\udd0d\\n\\n[INST] All set! He signed [/INST] PERFECT\\n\\n[/INST] Greetings! Please be aware that you will owe $[MONEY] at your upcoming visit. This includes any balance on your account and/or any applicable fees for your visit. Thank you.\\n\\n[/INST] Hi love! Things looked perfect [DATE]! You are good to follow your calendar - I will be in touch [DATE] with the time of your transfer! I am super excited for you! \\ud83e\\udd0d let me know if you have any questions!!!\\n\\n[/INST] Enjoy your [DATE]! [PERSON]\\n\\n[INST] Awesome!! Thank you!! Quick random question. Since we have a [TIME] shot time. Can I draw the meds up the night before? Would it be fine to leave in the syringe overnight? Haha. We are always so half awake at [TIME] I am trying to think of ways to make it easier \\ud83e\\udd23 [/INST] haha yes I totally understand and that is perfectly fine\\n\\n[INST] Awesome! I don't know what we chose that time for our ERA. [PERSON] I think we thought we would get up early and start our day... Nope. We always snooze for [TIME] [PERSON] Have a great weekend too!! [/INST] I am a chronic snoozer too \\ud83e\\udd23 as is my hubby! lol So I feel your pain! I always have good intentions of getting up before work and doing stuff and never do\\n\\n[INST] yep same. Never. I'm always rushing. [/INST] Always - and I hate rushing and you think I would learn but I never do lol\\n\\n[INST] Hahahaha, me too! [INST] Omg I forgot to take my estate [TIME]. I took it at [TIME]. Is that ok? Still take [TIME]? Mad at myself. \\ud83e\\udee0 [INST] [ORG] [/INST] No worries at all love! That is perfect! Definitely still take your [TIME] time dose. It will be okay \\ud83e\\udd0d\\n\\n[INST] Oh good!!! Thanks for such a quick response [/INST] You are so welcome! \\ud83e\\udd0d\\n\\n[INST] Good Morning! Just checking in on my transfer time! [/INST] We are working on the schedule and will be in touch by [TIME]! \\ud83e\\udd0d\\n\\n[/INST] We are working on the schedule and will be in touch by [TIME]! \\ud83e\\udd0d\\n\\n[INST] Great! [/INST] Transfer schedule for 9/29/22 at [TIME] - Drink 20oz water at [TIME] prior to scheduled transfer. - Do not urinate as a full bladder is needed for ultrasound guided embryo transfer. - Take all your medications [DATE] like normal. - No diet restrictions. - Arrive [TIME] - Transfer will take [TIME]. - Light activity at home the rest of [DATE]. -You may have one support person with you for procedure. - Positive thoughts AND LOTS OF BABY DUST!!! \\ud83e\\udd0d\\ud83e\\udd1e\\ud83e\\udd70\\n\\n[INST] Woohoo!!! [/INST] So excited for you love!! \\ud83e\\udd0d\\n\\n[/INST] So excited for you love!! \\ud83e\\udd0d\\n\\n[INST] Thank you!!!! [INST] Good Morning. Sorry for the early text. I'm a little worried. I've had significant cramping. [TIME] the cramping woke me up from my sleep around [TIME] they were so strong. It started [DATE] [TIME]. I got up to pee and there was a lot of blood. Not super dark red, but red. It took about 3-4 wipes to clear. It was not spotting... It covered the whole toilet paper. [/INST] Good [TIME], [PERSON]! I am so sorry for the delayed response - I wanted to talk to Dr. [PERSON] first about it. Unforuantly - she is not sure why this would be happening as it is not typical. However, she said to just make sure you are still taking all of your medications (the estrace and progesterone injections) and stay positive for your test on [DATE]! \\ud83e\\udd0d\\ud83e\\udd0d\\ud83e\\udd0d we are both praying for you!\\n\\n[INST] Why is [DATE] so far away?? \\ud83e\\udd23\\ud83e\\udd23\\ud83e\\udd23. Good news is it has subsided to more of a brown. It's just bad cramping still. I am taking all the meds! I'm hoping it was just a really weird implantation bleed [ORG] you! [/INST] It really could be! I am keeping all of my fingers and toes crossed that it is!! \\ud83e\\udd1e\\ud83e\\udd1e\\n\\n[INST] Good Morning. I'm still having heavy-ish spotting/bleeding. It's dark brown and grainy, but quite a lot. I was bad and tested and I do have a positive, but it's not a super dark line. Can we plan on possibly doing an Rh shot? Or test my progesterone levels? I'm thinking this is probably not going to be viable, but maybe there's something we can look at to why? Last time I lost early too. Same symptoms, but [DATE]. [/INST] I am so sorry \\ud83e\\udd0d we typically do not draw progesterone levels with pregnancy! And we do not know that this is a loss! Let's not think that way yet! Let's just plan for you to come in on [DATE] and have your level drawn and we will go from there! \\ud83e\\udd0d\\n\\n[INST] It's so hard to be positive Thank you, fingers crossed it will be ok\\ud83e\\udd1e\\ud83e\\udd1e\\ud83e\\udd1e [/INST] I am sending all of the positive vibes your way! \\ud83e\\udd1e\\ud83e\\udd1e\\n\\n[INST]  [INST] Oh! And what pain killer is safe? Tylenol, right? [ORG] no? I can't remember \\ud83e\\udee0 [/INST] You got it girl! \\ud83e\\udd0d\\ud83e\\udd0d Tylenol is the safe one!\\n\\n[INST] Perfect! Thanks! [/INST] Oh, I forgot to tell you, you can stop the baby aspirin \\ud83e\\udd0d\\n\\n[INST] Perfect! Will do! [/INST] Hey you!! How was the injection [DATE]?!\\n\\n[INST] So funny I was about to text you! It was extremely painful, but no rash! New thing though... I'm questioning if I have a [ORG] now? I'm falling apart. Is that something we can test [DATE]? Maybe that's what my bad cramping is?? [/INST] Great minds think alike! \\ud83e\\udd0d I\\u2019m glad there was no rash but I\\u2019m so sorry it was painful I am not in the office [DATE] (I\\u2019m actually having surgery with Dr. [PERSON] lol) but ask for one of the nurses to come over and look at your injection sites [DATE]! Just to take a peak and see what they think. We actually refer you to your pcp or [GPE] for [ORG] now! But it would not hurt to have the MA who rooms you for your injection if they can are able to run one! I also wanted to let you know barrons may be reaching out to you. Your injection is covered through insurance but they may call to let you know you are going to borrow one of ours and they will mail the one they ordered for you to us to replace! [PERSON]\\n\\n[INST] The injections are just burning so bad now! So weird. I'll have them check and I will ask to see if they can run for a [ORG]. I had a moment during my pee where I was like huh... That hurt a bit you know how it is. [ORG] did reach out, so I'm all set! GOOD LUCK [DATE] [/INST] Burning for [DATE] is no fun but hey \\u2026 a [ORG] could explain a lot \\u2026 the cramping and sometimes can cause bleeding if it\\u2019s bad enough! I think we should definitely look in to that and get it treated! \\ud83e\\udd0d and yay! Perfect! They are always so on top of things!! And thank you so much!\\n\\n[INST] I know you're off [DATE]... But I did have a rash again [TIME], boo. I'll let the nurse know [DATE] too! [/INST] Oh no! yes please let them know! If you want us to send in the other form of progesterone we for sure can! Just let them know \\ud83e\\udd0d I\\u2019m so sorry I was hopeful it would get better!\\n\\n[/INST] Hi Kelly! Your [ORG] is now 332.4 which is great! [PERSON]\\ud83e\\udd70\\ud83e\\udd70 I scheduled you for your first OB appointment which is 10/20 at 9:45am.\\n\\n[INST] YAYY!!! Thank you! [INST] Do people ever do more beta draws? I'm a little scared/anxious, as I've been here before and my ultrasound was devastating. [/INST] If you are wanting it drawn, we can do that [DATE] for you.\\n\\n[INST] That might ease some anxiety [/INST] What time would you like?\\n\\n[INST] Anytime in the [TIME] works! [/INST] Okay, I have you down for 8:15am on [DATE].\\n\\n[INST] Awesome thank you so much [/INST] You're very welcome! \\ud83e\\udd70\\n\\n[/INST] Hi Kelly! Just letting you know that we got the rhogam shipped into the office now. We have you down for [TIME], but you can come into the office whenever from now until then. See you later!\\n\\n[INST] Sounds good!! I haven't spotted in a [DATE] or two, is it still safe to take? I'd rather be safe then sorry. [/INST] Yes, we will still want you to get it \\ud83e\\udd0d\\n\\n[INST] Ok good. Just wanted to be sure!! How are you feeling after your procedure? Everything go well? [/INST] I am feeling okay! A little crampy [DATE] for sure! It seemed to go well. I think Dr. [PERSON] found a little more than he thought he would - lots of fibroids but I think he got them all out \\ud83e\\udd0d\\n\\n[INST] They're never fun procedures [PERSON] I'm glad to hear everything went well! [/INST] Thank you so much for checking in on me\\n\\n[/INST] Thank you so much for checking in on me\\n\\n[INST]  [/INST] HI [PERSON]! Dr. [PERSON] would like to up your [PERSON] dose to 75 mcg! Your level came back with your pregnancy test a little elevated at 2.9! \\ud83e\\udd0d I will send that in for you now!\\n\\n[INST] Sounds good! Do I take the full pills during [DATE] on the weekends still? [/INST] You will just take 75 mcg [DATE] \\ud83e\\udd0d\\n\\n[INST]  [INST] I don't know why I'm more anxious for a third beta. I don't know how to calm my nerves! [/INST] It is going to be amazing girl \\ud83e\\udd0d the only thing you can do is think positive thoughts. I will be in touch as soon as the results are back \\ud83e\\udd0d\\ud83e\\udd0d\\n\\n[INST] I'm ready for this baby! [/INST] Your level was 617.8 we wanted it to be at least 565 today so it is going up just as it should \\ud83e\\udd0d\\ud83e\\udd0d\\n\\n[INST] YAYY!!! Omg. My heart is so happy. [INST] I thought it had to double again. Whew haha [/INST] It has to go up by 70% [DATE]! \\ud83e\\udd0d\\n\\n[/INST] I\\u2019m so excited for you \\ud83e\\udd70\\n\\n[INST] thank you [/INST] Of course! now you go have an amazing weekend!!\\n\\n[INST] I just gotta relax hahaha. It's so hard because I lost last time. You have an amazing weekend too! [/INST] I totally understand that! \\ud83e\\udd0d\\ud83e\\udd0d But I am very optimistic for this pregnancy for you girl! I cannot wait to see how the ultrasound goes!\\n\\n[INST] I can't wait for that too! Never got this stage, so I am so excited! [/INST] Greetings! Please be aware that you will owe $[MONEY] at your upcoming visit. This includes any balance on your account and/or any applicable fees for your visit. Keep in mind that any charges [MONEY] will have a 3% credit card processing fee. Thank you.\\n\\n[INST] Hey I just went to the bathroom and had full while of blood [/INST] Hi love! I am so sorry to hear this Dr. [P[ORG]SON] said we will keep your apt for [DATE] to see you but if you have any pain - go to the [ORG] \\ud83e\\udd0d\\n\\n[INST] Okay thank you [/INST] You are so welcome. I will be praying for you girl! \\ud83e\\udd0d\\n\\n[INST]  [/INST] Hi Kelly - I am so sorry the news was not better [DATE] my heart is crushed for you! Dr. [PERSON] wants you to stop you medication and come back [DATE] for another quant. What time would work for you?\\n\\n[INST] I know, it's horrible. I'm so heartbroken What was my [ORG]? I can come in anytime. I'm going to work from home [DATE] [/INST] It was [DATE]. You let me know when works for you girl since you will be off I want you to be able to relax and sleep in or whatever you need! \\ud83e\\udd0d\\ud83e\\udd0d\\n\\n[INST] Around 10ish? [/INST] 10 would be perfect!\\n\\n[INST]  [/INST] Hi pretty lady. Your level was 205.8. Dr. [PERSON] wants to follow them to zero [DATE]. Can we get you scheduled for [DATE]?\\n\\n[INST] Yeah, the earlier the better so I can do them on the way to work. [/INST] We can do as early as 7 am - what time works for you \\ud83e\\udd0d\\n\\n[INST] [TIME]? Haha. I can't get up. Is there a reason she is tracking [DATE]? Just curious, we didn't do it last time? [/INST] We follow all quants to zero for saftey. We want to make sure they do not go back up or stay the same because then there is always a risk of retained tissue and stuff like that. It is just standard protocol typically!\\n\\n[/INST] [TIME] is perfect!\\n\\n[INST] Ohh ok! Sounds good, thanks! Also, should I keep with the thyroid meds? I know we raised it recently, but didn't know if I should go back down to 50 since I'm no longer pregnant [/INST] You should stay on your current dose \\ud83e\\udd0d\\n\\n[INST]  [/INST] Hi Kelly - your level was 26.9 [DATE] - almost there!! We need to repeat your level [DATE]. Does the same time work for you?\\n\\n[INST] Could we do 8:15 or [TI[PERSON]E] time I was struggling [TI[PERSON]E]. Also, two things. Can I set up an appointment for Dr. [PERSON] for next steps? Doesn't have to be right away. I'm definitely taking a break. Also, is there a way I can get all my records. I want to talk to a reproductive immunologist and they request all records. They have a [DATE] waiting list right now, so I definitely want to talk to Dr. [PERSON] before seeing them. I just want to get on the waiting list for now [/INST] [TIME] is perfect!!!! \\ud83e\\udd0d I am struggling too! lol. And of course you can - how about 11/14 at either [TIME]? Does that work for you at all? And I will upload a consent to your chart for you to sign and then our medical records dept will send them over for you!\\n\\n[INST] Thank you!!! I don't know if I will actually see the immunologist, I want to see what Dr. [PERSON] thinks too. I just feel in my gut that we're missing something? Ya know? Both miscarriages were almost identical, but then again... Who knows. Just bad luck? He actually made his way through on [DATE] [TIME]. I didn't think I'd see him, but there be was. Tiny little shrimp baby. He definitely looked like [DATE]. We buried him in the backyard under a oak tree. [INST] Let's do [TIME] [/INST] Awe, oh my goodness. I am so sorry - that is hard to go through, but I am so glad that you were able to bury him for some closure! \\ud83e\\udd0d I totally understand you wanting to make sure you get the full picture so this hopefully never happens again! \\ud83e\\udd0d\\ud83e\\udd1e\\n\\n[INST] I hope so. [/INST] So bad news - someone literally stole that consult time from under me!! Ugh can you do [TIME]? lol\\n\\n[/INST] So bad news - someone literally stole that consult time from under me!! Ugh can you do [TIME]? lol\\n\\n[INST] Haha, that works!! [/INST] So sorry! lol apparently we are all trying to schedule her for consults [DATE] because they are filling up quick! haha\\n\\n[INST] No big deal! [/INST] Your quant is negative [DATE]! \\ud83e\\udd0d\\n\\n[INST] Sad, but also [/INST] I know - I am super sad for you but glad the blood draws are done for you and hopefully we can move forward to much happier times ahead \\ud83e\\udd1e\\n\\n[INST] Yes, happy for no more blood draws I hope happier times are ahead too! I'm curious what Dr. [PERSON] had to say! [/INST] I am curious as well! [PERSON]\\n\\n[/INST] Greetings! Please be aware that you will owe $[MONEY] + $[MONEY] balance at your upcoming visit. This includes any balance on your account and/or any applicable fees for your visit. Keep in mind that any charges [MONEY] will have a 3% credit card processing fee. Thank you.\\n\\n[INST] Hi [DATE]! I had an appointment with Dr. [PERSON] today. It was just a tele appointment. For some reason they said my co lay was $[MONEY]?? I paid, but mine have always been $[MONEY]? [/INST] Hi Kelly! Just touching base after your consult with Dr. M! It looks like you are going to meet with a reproductive immunologist - which I think is a wonderful idea! then we can touch base and see if you want to move forward with a transfer. If you do, I will need to connect you with [ORG] to go over the risks associated with that! For now - it looks like Dr. [PERSON] would like you to come in to get another thyroid level drawn as well as a HGA1C. Let me know a good time to bring you in on that!\\n\\n[INST] Hey! It was a good talk [DATE] with Dr. [PERSON] I am free any morning between [TIME] [/INST] Hello. You were billed the office visit because your insurance covers diagnostic testing only. You have a diagnosis of infertility, so your insurance will not cover anything.\\n\\n[INST] Ok, it's so confusing \\ud83e\\udd23 I have just never been charged that way before. I figured it was still under that umbrella since we were discussing next steps and continued testing. Thanks for letting me know. [/INST] How about [DATE] at [TIME]?\\n\\n[INST] Works! [/INST] Perfect! I have you scheduled!\\n\\n[INST]  [/INST] No problem :)\\n\\n[/INST] Hi love- your labs results are coming back and all were normal except your A/G ratio on your [ORG]. Dr. [PERSON] would like to repeat your [ORG] in [DATE] and also have you show the results to your [ORG]. I have made them available to your portal!! Can we get you scheduled to repeat it in [DATE]?\\n\\n[INST] Hey! Yeah, I'm free! [TIME] is best [/INST] How [DATE] at [TIME]?\\n\\n[INST] Man .. I can't believe that's [DATE] away [PERSON] haha. That works! [INST] Where has [DATE] gone?? [/INST] Isn't it crazy! I keep having to double check myself when I am scheduling patients because I cannot believe I am scheduling in [DATE] already!\\n\\n[INST] Haha, it's insane. I'm not ready for [DATE]. Food yes, but everything else. No. Haha [/INST] [PERSON] food yesss - I am so exited lol. But yea I am not near ready for the rest! I love [DATE], but they are approaching so fast and I feel like I am behind! lol\\n\\n[INST] Me too! I sort of miss [DATE] in the way that we stayed home. That was a nice and quiet holiday because we had nowhere to be! [/INST] Haha that is so true! My hubby and I are both so close with our families so splitting the time is so hard because we want to be both places at once lol.\\n\\n[INST] Yes! We still haven't decided what we are doing yet. Both our families keep asking. We will probably keep them guessing and stroll in whenever [/INST] Haha that sounds like a good plan to me! [PERSON]\\n\\n[INST] Ahh, can I reschedule? Running so behind and went out to my car and the battery is dead \\ud83e\\udee0\\ud83e\\udee0\\ud83e\\udee0 [/INST] Oh no! Of course!! When would you like to reschedule for?\\n\\n[/INST] Do you want to come [DATE]?\\n\\n[INST] Oh yes! Sorry haha. I literally responded in my head. I'm actually off [DATE] so that would work. Can we do something around [DATE]? [/INST] Sure let's split the different and do [TIME]? lol\\n\\n[INST] Perfect [/INST] I have you scheduled! \\ud83e\\udd17\\n\\n[INST] Thank you! [/INST] Hi [PERSON]! I wanted to let you know that your [ORG] was normal this time \\ud83e\\udd0d\\n\\n[INST] Sweet! Thank you![PERSON] [/INST] Of course!!\\n\\n[INST] Hi Ashley! I don't know if you still use this number, but we haven't spoken in [DATE]! I am actually looking for some info or forms that I need to fill out to release my embryos to another clinic. Due to financial restraints we can't continue with [ORG]. We had another miscarriage since we spoke and I had surgery, so we've been \\\"[ORG]\\\" taking some time off, and now that we're ready to start trying again this was just our next step. Let me know what I should do or who I should contact. I would appreciate it so much Thank you, [PERSON] [/INST] [ORG] and Infertility: Hi [PERSON]! SO nice to hear from you! \\ud83e\\udd0d I am so very sorry to hear you experienced another miscarriage! [PERSON] if you call the embryology department at  ext [DATE] - they can help get you the forms to transfer your embryos! I am so sorry to see you go but really do wish you the best and lots of happiness in you future! . If you wish to opt out this texting service, reply STOP at any time.\\n\\n[/INST] [ORG] and Infertility: Hi [PERSON]! The lab received your message but they wanted me to check with you to make sure you knew all of your embryos are abnormal or complex mosaics and a lot of clinics will not accept these, so they just wanted me to make sure the clinic you are transferring to knows this! \\ud83e\\udd0d. If you wish to opt out this texting service, reply STOP at any time.\\n\\n[INST] Hey!! Thanks for checking! I didn't think of that. I did reach out and they will take them all. I really just want the mosaics and the segmental (-1q) from the first round, but they will take them all and I'll probably just not keep the other abnormals. I'm thinking it's easy to use send them all \\ud83e\\udd23 [INST] Does [ORG] rent tanks out to transport them? [INST] Oh and do you guys have records of my \\\"flow sheet\\\" for these two retrievals? I have my records, but they said I need a flow sheet for meds used and growth for the follicles? I'm not planning on anymore retrievals, so I'm not sure why they're asking. Is that something you have? [/INST] The embryology department can help you with the tank situation when they reach out to you! \\ud83e\\udd0d and I can get you the flow sheet from the first one when we had paper charts but for the most recent one we just have the calendars which you should still have on your portal to provide to them! \\ud83e\\udd0d\\n\\n[/INST] Actually - I think I figured out how to do both - I uploaded them to your portal for you to provide to them \\ud83e\\udd0d\\n\\n[INST] Thank you so so much! [/INST] You are so welcome! \\ud83e\\udd0d\\n\\n[INST] Oh sorry, one more question. Do you guys still use the nabel-health portal? It says I don't have an account anymore [PERSON] [INST] Oh wait wait. I got in!! Thanks!! [/INST] Yay! You are so welcome! \\ud83e\\udd0d\\n\\n[INST] Hey! Omg I swear my life is so insane. Do you have a moment to chat [DATE]?? [/INST] [ORG] and Infertility: Hi [PERSON]! I am in a work meeting [TIME] - what's up!. If you wish to opt out this texting service, reply STOP at any time.\\n\\n[INST] I just found out [DATE] our insurance is getting fertility coverage for [DATE] [INST] [ORG] is the in network provider. [INST] So that changes stuff for me, and now I think I can keep going on this journey. Since it won't all be out of pocket. [/INST] How exciting! You will want to get our financial team the information as soon as you have it so that they can verify it and see what kind of coverage you have! \\ud83e\\udd0d I will text you from her line - her name is [GPE]! You would also need a consult with Dr. M to regroup since it has been over a year since you have talked with her \\ud83e\\udd70\\n\\n[INST] Okay! Thank you!! Are you able to schedule a consult? Or should I call in? [/INST] This is [GPE]'s line - she will be your financial coordinator moving forward! \\ud83e\\udd0d you will provide her with your new insurance information when you have it!\\n\\n[/INST] I can schedule it! Her next available is 2/5 at [TIME] if that works! \\ud83e\\udd70\\n\\n[INST] Aw man so far out. I'll take it though! [INST] Thank you! Hi, [GPE]. I found out [DATE] that my new insurance will have fertility coverage. I have the card information, but it's just not active until [DATE] [/INST] I know! She is a busy lady! I will let you know if I see anything else come up though! \\ud83e\\udd0d\\n\\n[INST] That would be great! Thanks!!! Im so eager to keep trying, and the waiting game is always hard. But I get it! Thanks for adding me in! [/INST] Trust me - I am on my own fertility journey and know the waiting game is the worst!!\\n\\n[INST] Oh!! I remember you were just starting out during my last retrieval. Sorry to hear you're on this bumpy road too \\ud83e\\udd23\\ud83e\\udee0 [/INST] My road has for sure been very, very bumpy lol but we will both get there! \\ud83e\\udd70\\n\\n[INST] I hope so! I'm just relieved I have some coverage. It's not a lot, but it means we can at least try one more time, and I don't have to move the embryos [/INST] That is such a relief - any amount of coverage goes a long way in this expensive journey \\ud83e\\udd70\\n\\n[INST] \\u200b\\u200b to \\u201c That is such a relief - any amount of coverage goes a long way in this expensive journey \\ud83e\\udd70 \\u201d [/INST] Hi [PERSON] it's nice to meet you! Can you upload your insurance to your patient portal so I can have it verified?\\n\\n[INST] Nice to meet you too! I uploaded the policy and group number, but I don't have any card pictures to upload yet :) [/INST] Hi [PERSON], a balance of $[MONEY] is due for your [DATE] embryo storage. Please call  to pay or you can pay online via your pt portal. Thank you!\\n\\n[/INST] From what I can see on [ORG]'s website you will end up with a lifetime maximum amount for treatment of $[MONEY] which is amazing! Lifetime maximum refers to the monetary amount insurance will pay on claims. Once they have processed $[MONEY] in claims they will assign you 100% responsibility. Your treatment cycle charges are calculated by us using your remaining deductible and out of pocket amounts, or copay, along with the allowed amount by your insurance.\\n\\n[/INST] Once I get the verification back I will create an [ORG] estimate for you and then set up a phone call to go over your benefits and how they apply to your treatment.\\n\\n[INST] Awesome thank you! Could you get pricing on a embryo transfer too? We have two still frozen. I probably will do a retrieval first, but curious on the amount for a transfer too. Thank you!! [/INST] I sure will!\\n\\n[INST] Great!! [/INST] Are you still keeping [ORG]? If you are you may need to specify to each insurance provider who is the [PERSON] and who is Secondary\\n\\n[INST] No, I will be off that one by [DATE]. My husband will have different insurance than me. So if he needs a semen analysis or anything it would need to be billed separately. [/INST] No problem and thank you for the information.\\n\\n[/INST] [ORG] and Infertility: Hi [PERSON], this is a reminder for your past due balance of $[MONEY]. Please login to pay via your patient portal or call  and press 3. Thank you! [ORG] & Infertility. If you wish to opt out this texting service, reply STOP at any time.\\n\\n[INST] Hello! My insurance is now active. Am I able to get quotes for [ORG] and transfers? I wasn't sure if you have gotten a response email from my insurance yet. Thanks so much!!! [/INST] [ORG] and Infertility: I have our insurance department working on verifying your new [ORG] policy and I have initiated an authorization with [ORG] for an IVF Retrieval Cycle. If you wish to opt out this texting service, reply STOP at any time.\\n\\n[INST] Thank you! [/INST] I did released a rough estimate for an [ORG] based on the coverage I was able to obtain off of [ORG]'s insurance portal.\\n\\n[/INST] The quote is broken down into covered and non-covered charges. The first section you will notice is titled \\\"Professional Fees\\\". These charges are calculated by us using your remaining deductible and out of pocket amounts, or copay, along with the allowed amount by your insurance. The other charges that may be listed as \\\"non-covered\\\" are services that we know your insurance does not cover, therefore we are giving you our self-pay rates. We do require that all services be paid in full at or prior to your baseline ultrasound either at your appointment, or online via your patient portal.\\n\\n[INST] Is this 100% the cost out of pocket? My insurance documents that I received say it covers most listed under \\\"not covered\\\". We also will not be doing pgt testing. [INST] Or am I reading this wrong \\ud83e\\udd23\\ud83e\\udd23 [/INST] I also released an estimate without the PGT Testing. The estimates released are not final numbers. Your policy requires prior authorization and I have started that process and won't know your final numbers till I get the authorization back.\\n\\n[INST] I panicked, haha. I see that now [/INST] [ORG] and Infertility: Hi [PERSON]! Your insurance requires that you enroll in their fertility program before we can obtain information about your coverage. Once enrollment is complete, we can request prior authorization for your services. [ORG] at  to enroll. Please let us know when your enrollment is complete! Thank You!. If you wish to opt out this texting service, reply STOP at any time.\\n\\n[INST] Oh didn't know! Thank you! I will call now [INST] It takes [DATE] to get fully enrolled \\ud83e\\udee3. I'll let you know as soon as I am good! [/INST] [ORG] and Infertility: Hi [PERSON], your insurance requires you to enroll in fertility program in order to obtain authorization for treatment. Please call FERTILITY SOLUTIONS Phone: . If you wish to opt out this texting service, reply STOP at any time.\\n\\n[INST] Thanks! I have a meeting [DATE] for enrollment. They said it takes [DATE] to get enrolled. Once I get the green light, I'll let you know! Thanks! [/INST] [ORG] and Infertility: Thank you so much!!. If you wish to opt out this texting service, reply STOP at any time.\\n\\n[/INST] [ORG] and Infertility: Hi [PERSON], this is our final attempt to collect on your account balance of $[MONEY]. Please contact our office for options to avoid further collection activity at . Thank you!. If you wish to opt out this texting service, reply STOP at any time.\\n\\n[INST] Hello! I have enrolled with my insurance. They said you can send a pre-authorization over! Thanks! [INST] Hello! I have enrolled with my insurance. They said you can send a pre-authorization over! Thanks! [/INST] [ORG] and Infertility: Awesome! I will request authorization ASAP. If you wish to opt out this texting service, reply STOP at any time.\\n\\n[INST] Great!! Thank you! [/INST] [ORG] and Infertility: Please complete your nAble portal requirements prior to your upcoming appointment to avoid cancelation. Set up your nAble account (the link was emailed to you), Upload a picture of [ORG] of your insurance card, upload a picture of the front of your driver's license, sign your 3 consents and update your medical history. Thank you. [ORG] and Infertility. If you wish to opt out this texting service, reply STOP at any time.\\n\\n[INST] It's all set! All updated :) [/INST] [ORG] and Infertility: Greetings! Please be aware that you will owe $[MONEY] (follow up + balance) at your upcoming visit on 02/05. This includes any balance on your account and/or any applicable fees for your visit. Keep in mind that any charges [MONEY] will have a 3% credit card processing fee. Thank you. [ORG] and Infertility. If you wish to opt out this texting service, reply STOP at any time.\\n\\n[INST] I wanted to discuss the balance for storage fees. Are we able to split that to [DATE]? My insurance will cover storage fees. If I'm doing a retrieval and storage fee is included in that price. Can I just pay for [DATE] until my insurance go through? [INST] Good [TIME]! I wanted to discuss the balance for storage fees. Are we able to split that to [DATE]? My insurance will cover storage fees. If I'm doing a retrieval and storage fee is included in that price. Can I just pay for [DATE] until my insurance go through? [/INST] Unfortunately, you will have to pay the balance at your appointment or before your appointment. but your new balance will be $[MONEY]. $[MONEY] (balance) and $[MONEY] for your telemed appointment.\\n\\n[INST] Will you remove embryo storage from my bill to insurance? I see that storage is on the prior authorization [INST] Is the telemed a consult as well? I know consults are covered by insurance? [/INST] [ORG] and Infertility: Your policy doesn't allow coverage for [DATE] of embryo storage. I will tell you that [DATE] your balance is unpaid your account moves further into collections. After [DATE] your account is transferred to a third party collection agency. If you wish to opt out this texting service, reply STOP at any time.\\n\\n[/INST] Insurance won't pick up storage from past services either. IF you do another retrieval they will cover [DATE] of storage for the new embryos\\n\\n[/INST] Right now your account is about to leave [ORG] and move to an outside agency\\n\\n[INST] So I'm now having to cover $[MONEY] a year of storage? My insurance does not cover everything 100%. I understand, it's not about paying. It just seems like a double dip. My precious cycles were added to one single storage price. [/INST] You will get [MONEY][MONEY] charge yearly\\n\\n[INST] What happens if we decide to dispose of those embryos? That was apart of my discussion with Dr. [PERSON] on [DATE]. They are all abnormal. [/INST] If you decide to dispose of the embryos we will pro-rate the price based on when your notarized disposal form is returned to the office.\\n\\n[INST] Ok perfect! Just want to make sure I have all the info. [/INST] [ORG] and Infertility: Greetings! Please be aware that you will owe $[MONEY] (telemed appointment) at your upcoming visit. This includes any balance on your account and/or any applicable fees for your visit. Keep in mind that any charges [MONEY] will have a 3% credit card processing fee. Thank you. [ORG] and Infertility. If you wish to opt out this texting service, reply STOP at any time.\\n\\n[/INST] [ORG] and Infertility: . If you wish to opt out this texting service, reply STOP at any time.\\n\\n[/INST] Hi [PERSON]! I hope your consult with Dr. [PERSON] went well [DATE]! It looks like you are ready to proceed with [ORG]! Yay! \\ud83e\\udd0d\\n\\n[/INST] The financial team already requested the auth for it on 1/26 and that is pending - it can take [DATE] so hopefully we should have it before you are due to start! Dr. [PERSON] would like to update your ovarian assessment and prenatal labs when your cycle starts - when are you expecting your next cycle? \\ud83e\\udd0d\\n\\n[/INST] After the labs are drawn. I can have you start birth control and we can start planning your [ORG] cycle if you are ready to proceed with your next period! \\ud83e\\udd0d\\n\\n[/INST] There is also a list of supplements on your portal under education called \\\"DOR supplements\\\" - Dr. M wants to make sure you are taking all 4 on the list and if you are not- to go ahead and start them now \\ud83e\\udd0d\\n\\n[INST] Hey! It went well! I am super excited and ready to go! I just had my period on [DATE], but I was on birth control. So she asked me to come off and then wait for my cycle. So I'm thinking sometime in [DATE] (booo) haha. I was so ready to go! I will get those supplements going too! Thanks! [/INST] Ugh the wait is the [ORG] part haha - I know from experience! But it will be here before you know it \\ud83e\\udd0d\\ud83e\\udd0d we will plan to update your labs and start planning your [ORG] cycle with that period! It will give time to make sure your auth goes through okay and everything! \\ud83e\\udd0d\\ud83e\\udd0d it does look like she wants to try to get records from [ORG] so I am going to upload a records release to your portal for you to fill out so that we can try to get those from them, unless you have access to them and could send them to us! \\ud83e\\udd70\\n\\n[INST] I think I have all those!? I can drop them off. What was she looking for? I didn't get far with them \\ud83e\\udee0 [/INST] I think she just wants to look over whatever you have! \\ud83e\\udd0d that would be great!\\n\\n[INST] Okay! I should have all that! Let me see what I can find. Is there a place to upload on the portal? [/INST] You can email it to  and then I can upload it to your chart for you \\ud83e\\udd0d\\n\\n[INST] Awesome!!! Thanks! [/INST] Of course - thank you! \\ud83e\\udd0d\\n\\n[INST] I saw my insurance denied me again... I'm waiting to hear from the Fertility Solutions rep... I know I have the coverage so I'm assuming it's insurance being insurance haha. Let me know if I need to do anything, or if you heard more information on your end. Thanks! [/INST] [ORG] and Infertility: Hi [PERSON], I haven't go the denial yet but when I do they usually provide an explanation. If you wish to opt out this texting service, reply STOP at any time.\\n\\n[INST] Okay, sounds good. Sounds like there was some info missing? But the letter didn't make much sense haha. Thanks! [INST] Good [TIME]! Did the denial letter come though? Trying to stay on top, since we are trying for a [DATE] cycle Thanks! [/INST] [ORG] and Infertility: I still have not received it yet. If you wish to opt out this texting service, reply STOP at any time.\\n\\n[INST] Darn, okay! Thanks for letting me know. [/INST] I keep checking your account waiting for it so we can move to the next steps.\\n\\n[INST] Thanks for that! [/INST] [ORG] and Infertility: I got your authorization back APPROVED!!!!. If you wish to opt out this texting service, reply STOP at any time.\\n\\n[/INST] I updated your quote to reflect what was approved and fixed your professional fees. Please look over your quote at your convenience and let me know if you have any questions.\\n\\n[INST] [PERSON]!!! THANK YOU SO MUCH! [INST] I do have one question. And it might be an insurance question. I was told my ultrasounds and monitoring appointments are covered but not under the fertility benefits, but regular benefits. Is that something just not billed to insurance or can I pay as I go for those? I thought I did that last time... But it's been awhile [INST] Oh and another question... What about the deductible? I believe mine is 2k. So will I pay that as well to you guys? Trying to figure out my funds right now Thanks! [INST] Hey!! Insurance is all set (YAYY). Are we planning on starting stims next cycle? I know I need updated bloodwork, but if that's all good I can start, right? I'm just trying to somewhat plan. We are on vacation at [DATE]. I get back on [DATE]. My period is supposed to start on [DATE] .. but I know it will be late since I'm just coming off bc. Will I go back on bc at all to start the next cycle? [/INST] [ORG] and Infertility: Hi [PERSON]! [PERSON] is out of office [DATE]. It looks like we have the auth on file for treatment! With your period we can update your bloodwork and you would start on birth control after that so [PERSON] can plan your stim cycle and order medication! Just message in with your first day of full flow . If you wish to opt out this texting service, reply STOP at any time.\\n\\n[INST] Awesome! If for some reason it starts early, should I get a script for bc so I can take it cycle day 1 while I'm on my trip? I highly highly doubt it will start, but in case? Or would getting blood work on [DATE] into the cycle ok? [/INST] We would need to get the blood work done between [DATE] then you can start birth control after the blood draw!\\n\\n[INST] That's perfect! Thank you!! [/INST] [ORG] and Infertility: Hi [PERSON], would you like to set up a phone call to go over your benefits and estimates together?. If you wish to opt out this texting service, reply STOP at any time.\\n\\n[INST] Yeah, that would be awesome! [/INST] Are you available [DATE] morning around [TIME]?\\n\\n[/INST] Or if [DATE] doesn't work can you provide me with your availability for the remainder of [DATE] and [DATE]?\\n\\n[INST] That works!! [INST] So I talked with the insurance, and [ORG] testing is covered IF we have a preexisting genetic issue. Which, I know we don't! I'm glad we don't have one, but darn on the coverage. [/INST] [ORG] and Infertility: That is so annoying of them. If you wish to opt out this texting service, reply STOP at any time.\\n\\n[INST] Quick question... Dr. [PERSON] wants to freeze sperm when we come in for all our updated bloodwork. My husband is on a separate insurance. Do you guys need that, or is insurance not billed for those sort of things? What is the cost of sperm freezing? [/INST] [ORG] and Infertility: Insurance doesn't cover sperm freezing. The pricing is $[MONEY] for the cryo. If he is getting a semen analysis we will need his insurance. If you wish to opt out this texting service, reply STOP at any time.\\n\\n[INST] He is getting an analysis too. Can I text you his cards? I know my portal only allows one card. [/INST] Yes please send me a picture of the front and back of his card and I will upload it to his account and price out his [ORG]\\n\\n[/INST] You are quick!!\\n\\n[INST] Haha, I had them saved to my phone [/INST] I put an estimate on his portal if he want's to look at it. He will owe $[MONEY] for the analysis and then [MONEY] for cryo\\n\\n[INST] Thank you! I'm not sure he's ever logged on I'll have him get on it. [/INST] I'll put it on your portal\\n\\n[/INST] [ORG] and Infertility: Hi [PERSON]! Thank you for all of the records - I have uploaded them to your chart and sent them to Dr. M! \\ud83e\\udd0d she wants [PERSON] to be scheduled for a semen analysis and wants to freeze the sperm as well for backup - I am going to have the andrology team reach out to scheduled that! he also needs updated infectious disease labs - I did not see his in what you sent me - did he have some drawn [DATE] when you did? \\ud83e\\udd0d. If you wish to opt out this texting service, reply STOP at any time.\\n\\n[INST] Awesome! Sorry it was kind of a mess. They didn't really give me much from [ORG], so I pulled what I could. I think he did? I actually don't remember, I'll double check with him and send over what he has :) We are on vacation [DATE]. So, we probably will schedule for [DATE] [INST] Oh wait, I found his stuff! Sending over! [/INST] Yay! Thank you - I will look for his stuff to come to my email! \\ud83e\\udd0d do you want me to just go ahead and schedule the SA+Cryo now? We can do them in [GPE] [DATE] at [TIME] usually is the slot of them.\\n\\n[INST] Awesome! Let me see what day is best for him, I just texted him. My period is due on [DATE], but I'm thinking it will be late since I had a mild bleed after stopping bc... I am pretty sure I ovulated as normal so hopefully it's not too late! [/INST] Yay! I am so excited for you to get started with us again! \\ud83e\\udd70 Just let me know what is best for him and I can get it scheduled so that we have it on the books and then we can update your ovarian assessment labs and a couple other labs Dr. M wants at the start of your cycle and then start birth control and start planning your cycle! \\ud83e\\udd0d\\ud83e\\udd0d\\ud83e\\udd0d\\n\\n[INST] Do you think I should bring birth control on my trip [DATE]? We get back on [DATE] but for some reason it starts [DATE] does she want me starting bc on cycle day 1? [INST] Oh and [PERSON] texted me. The lab already called him and he booked for [DATE] the 8th! [/INST] PERFECT!!!!! [PERSON]\\n\\n[/INST] I can send you in birth control if you want to take it just in case! But we will probably want to get those labs drawn before you start it so hopefully you will be back - you will start birth control usually on [DATE] of full flow.\\n\\n[INST] YAYY!! I'm so ready for this to start. I think we will be ok then on the script, my cycle is never early hahaha. [/INST] Haha perfect! Worse case scenario - I can send it to a pharmacy down there if needed but I think we should be okay! \\ud83e\\udd0d\\n\\n[INST] I might have a old pack of apri I can bring too . It will all work out haha [/INST] It will - I just know it\\n\\n[INST]  [INST] Hello! No period yet. However [PERSON] and I are both sick with bronchitis! [PERSON].... I'm doing a bit better but he's still in rough shape. Can we push his analysis/freezing a week? He doesn't think he can perform because of his coughing fits. \\ud83e\\udee3. [/INST] [ORG] and Infertility: Hi [PERSON]! Oh no! I hope you both feel better soon! \\ud83e\\udd0d has he had a fever or anything? I also ask because fevers can kill sperm and it may be worth waiting for your next cycle to do [ORG] if he has \\ud83e\\udd0d. If you wish to opt out this texting service, reply STOP at any time.\\n\\n[INST] He definitely had a fever [DATE]. It started on vacation. I would say Wednesday/Thursday of [DATE] he did. I was feverish Monday/Tuesday of [DATE]. Our poor vacation was spent in bed \\ud83e\\udee3 [/INST] That is HORRIBLE! I am so sorry I am going to send a message to Dr. [PERSON] and see what she thinks!\\n\\n[INST] I knowwww, I was so upset. We spent all that money. I'm thinking my period is not going to start for [DATE] so due to that in-between bleed. So maybe with that and [DATE] so of birth control we can push it off enough. If we have to wait that's ok too. It sucks, but I get it! [/INST] [ORG] and Infertility: Hey [PERSON]! Sorry it took me a second to get back with you! \\ud83e\\udd0d Dr. [PERSON] said let's move to semen analysis and freeze to [DATE] but we can still plan to start [ORG] with this upcoming period! \\ud83e\\udd0d. If you wish to opt out this texting service, reply STOP at any time.\\n\\n[INST] Hey no worries! I know you must be busy!! Thanks so much! I'll let [PERSON] know. Can we plan same time [DATE] for him? [/INST] Let me check with andrology - it looks like they are a little more booked [DATE] but I will see what they say! \\ud83e\\udd0d\\n\\n[INST] Ok, sounds good! [/INST] I am going to have them reach out to him to reschedule since they know their schedule better than I do \\ud83e\\udd0d\\n\\n[INST] Perfect [/INST] The andrology lab called him and left him a voicemail, but they moved him to 3/15 at [TIME] \\ud83e\\udd0d\\n\\n[INST] Great! He will be there! Thanks so much! [/INST] You are so welcome! \\ud83e\\udd0d\\n\\n[INST] Hey!! So my period is being a jerk... Lol. At a certain point where we try to start it? I believe I'm at [DATE] late. I did test and it was negative. Just curious... I feel like it's going to start seeing, but here we are haha [INST] Start soon [/INST] [ORG] and Infertility: Hey girl! \\ud83e\\udd0d so sorry to hear your period is not cooperating. If you do not start by [DATE], we can schedule you to come in for blood work (looking at your progesterone to see if you ovulated) and an ultrasound and if both are negative - we can just have you start on birth control pills [DATE]. If you wish to opt out this texting service, reply STOP at any time.\\n\\n[INST] Okay, sounds good! Thank you!! [/INST] You are so welcome! \\ud83e\\udd0d do you want to go ahead and get scheduled for [DATE] and we can cancel it if you start? \\ud83e\\udd0d\\n\\n[INST] Yeah, let's do that. I'm basically free [TIME]. Work is usually pretty good about appointments! [INST] Or even the afternoon is fine too [/INST] I have [TIME], [TIME] - if any of those work well for you! You will be seeing Dr. [PERSON] if that is okay (he is the only provider in the office on [DATE]) \\ud83e\\udd0d\\n\\n[INST] That's fine. Let's do [TIME]! [/INST] Perfect! I have that scheduled for you! We will go ahead and check an AMH level and [ORG] level as well while you are in the office! \\ud83e\\udd0d\\n\\n[INST] Great! Thanks! [/INST] Of course! \\ud83e\\udd0d\\n\\n[/INST] I am also adding on a gonorrhea and chlamydia screening - it will be a small urine sample. It looks like it is the only thing you did not have done while at CNY \\ud83e\\udd0d\\n\\n[INST] Okay, sounds good! [/INST] [ORG] and Infertility: Greetings! Please be aware that you will owe $[MONEY] ([ORG]) at your upcoming visit on 03/25. This includes any balance on your account and/or any applicable fees for your visit. Keep in mind that any charges [MONEY] will have a 3% credit card processing fee. Thank you. [ORG] and Infertility. If you wish to opt out this texting service, reply STOP at any time.\\n\\n[/INST] I do apologize. It will be for 3/19.\\n\\n[INST] 3/19? Is this for the ultrasound and blood work? I thought it was [DATE]? Or am I forgetting something? Haha [/INST] im sorry. It is 3/18. I am a week ahead of [DATE].\\n\\n[INST] No worries!! [PERSON] [INST] I just realized that I texted you [DATE] but never hit send hahaha... I'm losing my mind. Question, [PERSON] is coming in for his analysis [DATE] and freezing. I was curious about doing a DNA fragmentation test. It's probably too late at this point because I don't even know how much it costs or if you can even do it during this time. I just been thinking about it because it's really the only test that we haven't tried with [PERSON] yet, or if it's even worth taking the test lol. [PERSON]. I just know that DNA fragmentation can cause early miscarriage, and that's been our issue. [/INST] [ORG] and Infertility: Hi [PERSON]! \\ud83e\\udd70 it unfortunately would be too late to have that done at this point - our lab only performs this test once a month, but it truly is a test Dr. [PERSON] rarely orders because it has never proven to be helpful . If you wish to opt out this texting service, reply STOP at any time.\\n\\n[INST] No worries! I have heard that about that test. Because there really is no \\\"cure\\\" or treatment for [ORG]. [INST] Hey I hope I'm not bugging your on your weekend and you see this [DATE]!! I started spotting [TIME], today the spotting is a bit heavier... Still not full flow. Should we hold off on [DATE]? I usually spot for [DATE] before full flow. Just wanted to keep you updated!! [/INST] [ORG] and Infertility: Hi [PERSON]! Happy [DATE]! \\ud83e\\udd0d let[GPE] go ahead and cancel [DATE]! It would be great if your cycle starts on its own so we can do a full ovarian assessment panel when it starts, instead of just an AMH! If for some reason you do not start full flow this week - we can reschedule the ultrasound and bloodwork but if it does start, we\\u2019ll bring you in on [DATE] for the blood work we need and then start birth control on [DATE] of your cycle! . If you wish to opt out this texting service, reply STOP at any time.\\n\\n[INST] Perfect! I much rather get that full assessment too. I'm thinking [DATE] it will be full flow, but we shall see! I'll keep you in the loop! Thanks for reaching out, have a great weekend!! [INST] Oh did [PERSON]'s results come back? Or will that probably be [DATE]? [/INST] That sounds perfect! Thanks for keeping me updated! \\ud83e\\udd0d I\\u2019m excited for you to get started! And with sperm freezes the results usually take [DATE] to come back\\n\\n[INST] Sounds good! I'm ready for sure! Talk soon! [INST] Good Morning!! So, in [DATE] with a period, I've never had one like this \\ud83e\\udd23. I think it's cycle day one? This will be [ORG], but I figured you hear it all! \\ud83e\\udd23. So it's bright red, but it's not filling a pad because it's literally a paste. When I pee huge [MONEY] size clots are coming out, and the toilet paper is soaked, but it's staying tucked in there [/INST] [ORG] and Infertility: [PERSON] I have had cycles just like that before, so I know exactly what you are talking about let's consider today day 1! Could you come in [DATE], or [DATE] for the lab work? Then we will have you start birth control on [DATE] \\ud83e\\udd0d. If you wish to opt out this texting service, reply STOP at any time.\\n\\n[INST] [PERSON], bodies are weird \\ud83e\\udd23. What time do you have for [DATE] and [DATE]? I have some meetings scheduled at work, so I'll see what you have available that best fits in [/INST] What time would work best for you?\\n\\n[INST] The earlier the better. I have a meeting at [TIME] on [DATE] and one at 11 on [DATE]. [/INST] I could do [TIME] on [ORG], 3/20 if that would work?\\n\\n[INST] Yep! That works! I'll be asleep, but I'll be there \\ud83e\\udd23 [/INST] Haha I can do a little later if you want! lol\\n\\n[INST] Could we do 8ish?? \\ud83e\\udd23\\ud83e\\udd23 [INST] I can get a little more sleep in [/INST] Haha 8 will work \\ud83e\\udd0d\\n\\n[INST] Awesome!! So timeline wise. If I go on birth control on [DATE], if everything is good. Will it only be for [DATE] and then we would start stims? [/INST] I will be in touch by [DATE] with a calendar and instructions and everything for you! \\ud83e\\udd0d it is somewhere between [DATE] you will be on them but I will give you that exact information once I am back in the office and can plan it all and order your meds! \\ud83e\\udd0d\\n\\n[INST] Awesome! I will have to get you a list. I have a ton of meds. Probably enough to do an entire round. I got them in late november before I realized I would have coverage. They have all been stored correctly, so they are good to use. [/INST] Okay! Just make sure they are not expired and send me a list of what you have and I will order based off of that if you end up needing anything else! \\ud83e\\udd0d\\n\\n[INST] Perfect! I'll get that together [TIME], and send your way [DATE]! [/INST] Sounds perfect! Thank you \\ud83e\\udd0d\\n\\n[/INST] [ORG] and Infertility: Hi [PERSON]! Thanks for the med list! Are you able to let me know what strength the Gonal F is (ex. 900 unit cartridges or 450 unit multidose vials) and if it the pen or the multidose vial? I will have to order more [GPE] and [ORG] wants you to use a [PERSON] trigger, so I will have to order that as well \\ud83e\\udd0d. If you wish to opt out this texting service, reply STOP at any time.\\n\\n[/INST] Scratch the [GPE] - I see you have it. Is it the [PERSON] kit?\\n\\n[/INST] Or you can send me pictures if that is easier! \\ud83e\\udd0d\\n\\n[INST] I'll have to check on the centrotide, I know it's the vials and not the pens, but I am not sure on the dosage. I will also check if it's the lupron kit too... Haha. I will probably send you a picture on that one... Cause I'm not sure if it says! Haha. I'll send you the info when I get home [TIME]!!! Thank you!!! [INST] Oh sorry gonal hahaha not centrotide [/INST] Haha a picture will be perfect! \\ud83e\\udd70 I just want to make sure you have enough and that I do not order anything you do not need!\\n\\n[/INST] Also, if you can send a picture of the [LOC] as well - do you have 4 of the 5.8 mg vials? \\ud83e\\udd0d\\n\\n[INST] I do know that because I have an email about it. It's 5.8mg vials [INST] Actually I think this is the info: [INST] Looks like it's the kit and 450 unit for gonal [INST] But I'll still verify [TIME] and look at the boxes... Cause how they ordered the meds, it was sort of all over the place \\ud83e\\udd23 [/INST] Haha that is perfect! thank you so very much! \\ud83e\\udd0d\\n\\n[/INST] [ORG] and Infertility: Hi [PERSON]! Just a reminder I am going to have you start birth control [DATE]! Just be sure to take it at the same time each day. Do you still use [ORG]? \\ud83e\\udd0d. If you wish to opt out this texting service, reply STOP at any time.\\n\\n[INST] Sounds good! Yep, still same [ORG] location. Will my results be in [DATE]? Curious about my amh! [/INST] I am too! It should be back in [DATE]! \\ud83e\\udd0d\\n\\n[INST] Oh! Ok. Did you guys switch how you do bloodwork now? I know it used to be [ORG]. I noticed she put it into a dif\n",
            "Loaded 45776 records\n"
          ]
        }
      ]
    },
    {
      "cell_type": "code",
      "source": [
        "# Split the dataset into train and test sets\n",
        "train_test_split = dataset.train_test_split(test_size=0.2, seed=42)\n",
        "train_dataset = train_test_split['train']\n",
        "test_dataset = train_test_split['test']\n",
        "\n",
        "# Verify the splits\n",
        "print(f\"Train dataset length: {len(train_dataset)}\")\n",
        "print(f\"Test dataset length: {len(test_dataset)}\")"
      ],
      "metadata": {
        "id": "h-9Er3qZHhiG",
        "colab": {
          "base_uri": "https://localhost:8080/"
        },
        "outputId": "45abbb5f-182b-4a23-8e24-c9f5eed286f7"
      },
      "execution_count": 15,
      "outputs": [
        {
          "output_type": "stream",
          "name": "stdout",
          "text": [
            "Train dataset length: 4000\n",
            "Test dataset length: 1000\n"
          ]
        }
      ]
    },
    {
      "cell_type": "code",
      "source": [
        "# Load tokenizer and model with QLoRA configuration\n",
        "compute_dtype = getattr(torch, bnb_4bit_compute_dtype)\n",
        "\n",
        "bnb_config = BitsAndBytesConfig(\n",
        "    load_in_4bit=use_4bit,\n",
        "    bnb_4bit_quant_type=bnb_4bit_quant_type,\n",
        "    bnb_4bit_compute_dtype=compute_dtype,\n",
        "    bnb_4bit_use_double_quant=use_nested_quant,\n",
        ")"
      ],
      "metadata": {
        "id": "tuzRekGTH_Dx"
      },
      "execution_count": 16,
      "outputs": []
    },
    {
      "cell_type": "code",
      "source": [
        "# Check GPU compatibility with bfloat16\n",
        "if compute_dtype == torch.float16 and use_4bit:\n",
        "    major, _ = torch.cuda.get_device_capability()\n",
        "    if major >= 8:\n",
        "        print(\"=\" * 80)\n",
        "        print(\"Your GPU supports bfloat16: accelerate training with bf16=True\")\n",
        "        print(\"=\" * 80)"
      ],
      "metadata": {
        "id": "V6RKlclkIdnH",
        "colab": {
          "base_uri": "https://localhost:8080/"
        },
        "outputId": "9213804d-9092-40b3-abd9-bc8a24dac961"
      },
      "execution_count": 17,
      "outputs": [
        {
          "output_type": "stream",
          "name": "stdout",
          "text": [
            "================================================================================\n",
            "Your GPU supports bfloat16: accelerate training with bf16=True\n",
            "================================================================================\n"
          ]
        }
      ]
    },
    {
      "cell_type": "code",
      "source": [
        "# Load base model\n",
        "model = AutoModelForCausalLM.from_pretrained(\n",
        "    model_name,\n",
        "    quantization_config=bnb_config,\n",
        "    device_map=device_map,\n",
        "    use_auth_token=hf_auth,\n",
        ")\n",
        "model.config.use_cache = False\n",
        "model.config.pretraining_tp = 1"
      ],
      "metadata": {
        "id": "3tpx0t1qIfe8",
        "colab": {
          "base_uri": "https://localhost:8080/",
          "height": 140,
          "referenced_widgets": [
            "3c60c1c25abd423fbc5c70106d32ef0a",
            "f13e0151f1e74431ac764d4ee1493b46",
            "8971857433764a1e967dc6443836fd8a",
            "d65790efcbdb478c818225c2e56d26cc",
            "f633bc68104d49438e1be9daf4fb1d8a",
            "f503b0394f564f92a91686226f8f2a88",
            "0acfd030970b4678954d0cd5beb7bfbf",
            "1524e330ea08453fbb7d1c16ad08fc33",
            "8f9605af4105455587847c9d3137ed9d",
            "a170d84be8b343d89ac0e4491413dd84",
            "57a7c99ee72649d2b3ec6aff52c797fe"
          ]
        },
        "outputId": "43dfbdbb-e581-4e8e-a34d-d628ef9318e2"
      },
      "execution_count": 18,
      "outputs": [
        {
          "output_type": "stream",
          "name": "stderr",
          "text": [
            "/usr/local/lib/python3.10/dist-packages/transformers/models/auto/auto_factory.py:466: FutureWarning: The `use_auth_token` argument is deprecated and will be removed in v5 of Transformers. Please use `token` instead.\n",
            "  warnings.warn(\n",
            "/usr/local/lib/python3.10/dist-packages/huggingface_hub/file_download.py:1132: FutureWarning: `resume_download` is deprecated and will be removed in version 1.0.0. Downloads always resume when possible. If you want to force a new download, use `force_download=True`.\n",
            "  warnings.warn(\n"
          ]
        },
        {
          "output_type": "display_data",
          "data": {
            "text/plain": [
              "Loading checkpoint shards:   0%|          | 0/3 [00:00<?, ?it/s]"
            ],
            "application/vnd.jupyter.widget-view+json": {
              "version_major": 2,
              "version_minor": 0,
              "model_id": "3c60c1c25abd423fbc5c70106d32ef0a"
            }
          },
          "metadata": {}
        }
      ]
    },
    {
      "cell_type": "code",
      "source": [
        "# Load tokenizer\n",
        "tokenizer = AutoTokenizer.from_pretrained(model_name, trust_remote_code=True, token=hf_auth,)\n",
        "tokenizer.pad_token = tokenizer.eos_token\n",
        "tokenizer.padding_side = \"right\""
      ],
      "metadata": {
        "id": "qhFl4pHKIi08",
        "colab": {
          "base_uri": "https://localhost:8080/"
        },
        "outputId": "40db19e8-b64d-4249-ad8a-b02445ee47e2"
      },
      "execution_count": 19,
      "outputs": [
        {
          "output_type": "stream",
          "name": "stderr",
          "text": [
            "/usr/local/lib/python3.10/dist-packages/transformers/models/auto/tokenization_auto.py:720: FutureWarning: The `use_auth_token` argument is deprecated and will be removed in v5 of Transformers. Please use `token` instead.\n",
            "  warnings.warn(\n",
            "You set `add_prefix_space`. The tokenizer needs to be converted from the slow tokenizers\n"
          ]
        }
      ]
    },
    {
      "cell_type": "code",
      "source": [
        "# Load LoRA configuration\n",
        "peft_config = LoraConfig(\n",
        "    lora_alpha=lora_alpha,\n",
        "    lora_dropout=lora_dropout,\n",
        "    r=lora_r,\n",
        "    bias=\"none\",\n",
        "    task_type=\"CAUSAL_LM\",\n",
        "    target_modules = [\"q_proj\", \"k_proj\", \"v_proj\", \"o_proj\",\n",
        "                      \"gate_proj\", \"up_proj\", \"down_proj\",],\n",
        ")"
      ],
      "metadata": {
        "id": "e4nhd_hkIhO-"
      },
      "execution_count": 20,
      "outputs": []
    },
    {
      "cell_type": "code",
      "source": [
        "# Set training parameters\n",
        "training_arguments = TrainingArguments(\n",
        "    output_dir=output_dir,\n",
        "    num_train_epochs=num_train_epochs,\n",
        "    per_device_train_batch_size=per_device_train_batch_size,\n",
        "    gradient_accumulation_steps=gradient_accumulation_steps,\n",
        "    optim=optim,\n",
        "    save_steps=save_steps,\n",
        "    logging_steps=logging_steps,\n",
        "    learning_rate=learning_rate,\n",
        "    weight_decay=weight_decay,\n",
        "    fp16=fp16,\n",
        "    bf16=bf16,\n",
        "    max_grad_norm=max_grad_norm,\n",
        "    max_steps=max_steps,\n",
        "    warmup_ratio=warmup_ratio,\n",
        "    group_by_length=group_by_length,\n",
        "    lr_scheduler_type=lr_scheduler_type,\n",
        "    report_to=\"tensorboard\",\n",
        ")"
      ],
      "metadata": {
        "id": "xoIUBAf5Il5E"
      },
      "execution_count": 21,
      "outputs": []
    },
    {
      "cell_type": "code",
      "source": [
        "# Set supervised fine-tuning parameters\n",
        "trainer = SFTTrainer(\n",
        "    model=model,\n",
        "    train_dataset=train_dataset,\n",
        "    eval_dataset=test_dataset,\n",
        "    peft_config=peft_config,\n",
        "    dataset_text_field=\"text\",\n",
        "    max_seq_length=max_seq_length,\n",
        "    tokenizer=tokenizer,\n",
        "    args=training_arguments,\n",
        "    packing=packing,\n",
        ")"
      ],
      "metadata": {
        "id": "TWMZ6T6cInpx",
        "colab": {
          "base_uri": "https://localhost:8080/",
          "height": 226,
          "referenced_widgets": [
            "cb008acfa5604875b0a9b067e78d4c9c",
            "6917aef9115f4f058403da30b31275d1",
            "8d109598df8241829068889e71a8a585",
            "32dd6eba092845478ddd1cea210aa877",
            "761fde8fd3e84cba80a1496d60ac475e",
            "2482ab3e09e243a78dc25109fec036f8",
            "89a3800e2c3849ee81019721842e9f7b",
            "3f0c0049da704ee58aa44010710b1243",
            "9db18f8dde8c4b0496a279488ea69ae7",
            "22b6e9dea8be4ad28e279715ce950d38",
            "9e332aa1adc9490499b60bd583805c7d",
            "0e7ec4b4776b4b97be9dd81e8783335a",
            "ec9157ba286949c88358a9098284bd61",
            "62d099374f9f4acd878b820659878f75",
            "6138cfac57be437fa579dad8ed17b78c",
            "67625ccac5f44b70b752ff0495965168",
            "b2de5979786d49f693946549d1a5f7dd",
            "2b5cdfd9fd8242158f02beb7ec975483",
            "5f2ac46dbe804ceeb4cbe5a40f36e17e",
            "842c9d9e824741fb8b29c2af8f526d5e",
            "020a2920e90a4913a512688571de653a",
            "c9d18003e72847b989620ded3c06dbdf"
          ]
        },
        "outputId": "067acf66-fc69-4bc4-89ba-96ce1f9d339f"
      },
      "execution_count": 22,
      "outputs": [
        {
          "output_type": "stream",
          "name": "stderr",
          "text": [
            "/usr/local/lib/python3.10/dist-packages/peft/utils/other.py:102: FutureWarning: prepare_model_for_int8_training is deprecated and will be removed in a future version. Use prepare_model_for_kbit_training instead.\n",
            "  warnings.warn(\n",
            "/usr/local/lib/python3.10/dist-packages/trl/trainer/sft_trainer.py:159: UserWarning: You didn't pass a `max_seq_length` argument to the SFTTrainer, this will default to 1024\n",
            "  warnings.warn(\n"
          ]
        },
        {
          "output_type": "display_data",
          "data": {
            "text/plain": [
              "Map:   0%|          | 0/4000 [00:00<?, ? examples/s]"
            ],
            "application/vnd.jupyter.widget-view+json": {
              "version_major": 2,
              "version_minor": 0,
              "model_id": "cb008acfa5604875b0a9b067e78d4c9c"
            }
          },
          "metadata": {}
        },
        {
          "output_type": "display_data",
          "data": {
            "text/plain": [
              "Map:   0%|          | 0/1000 [00:00<?, ? examples/s]"
            ],
            "application/vnd.jupyter.widget-view+json": {
              "version_major": 2,
              "version_minor": 0,
              "model_id": "0e7ec4b4776b4b97be9dd81e8783335a"
            }
          },
          "metadata": {}
        },
        {
          "output_type": "stream",
          "name": "stderr",
          "text": [
            "/usr/local/lib/python3.10/dist-packages/accelerate/accelerator.py:432: FutureWarning: Passing the following arguments to `Accelerator` is deprecated and will be removed in version 1.0 of Accelerate: dict_keys(['dispatch_batches', 'split_batches', 'even_batches', 'use_seedable_sampler']). Please pass an `accelerate.DataLoaderConfiguration` instead: \n",
            "dataloader_config = DataLoaderConfiguration(dispatch_batches=None, split_batches=False, even_batches=True, use_seedable_sampler=True)\n",
            "  warnings.warn(\n"
          ]
        }
      ]
    },
    {
      "cell_type": "code",
      "source": [
        "# Train model\n",
        "trainer.train()"
      ],
      "metadata": {
        "id": "PBRIWlbNIpE1",
        "colab": {
          "base_uri": "https://localhost:8080/",
          "height": 389
        },
        "outputId": "2ae20fd8-38ce-41bf-9bf7-b93e5707ef31"
      },
      "execution_count": null,
      "outputs": [
        {
          "output_type": "display_data",
          "data": {
            "text/plain": [
              "<IPython.core.display.HTML object>"
            ],
            "text/html": [
              "\n",
              "    <div>\n",
              "      \n",
              "      <progress value='256' max='1000' style='width:300px; height:20px; vertical-align: middle;'></progress>\n",
              "      [ 256/1000 27:43 < 1:21:12, 0.15 it/s, Epoch 0.26/1]\n",
              "    </div>\n",
              "    <table border=\"1\" class=\"dataframe\">\n",
              "  <thead>\n",
              " <tr style=\"text-align: left;\">\n",
              "      <th>Step</th>\n",
              "      <th>Training Loss</th>\n",
              "    </tr>\n",
              "  </thead>\n",
              "  <tbody>\n",
              "    <tr>\n",
              "      <td>25</td>\n",
              "      <td>2.185100</td>\n",
              "    </tr>\n",
              "    <tr>\n",
              "      <td>50</td>\n",
              "      <td>1.698400</td>\n",
              "    </tr>\n",
              "    <tr>\n",
              "      <td>75</td>\n",
              "      <td>1.621600</td>\n",
              "    </tr>\n",
              "    <tr>\n",
              "      <td>100</td>\n",
              "      <td>1.224100</td>\n",
              "    </tr>\n",
              "    <tr>\n",
              "      <td>125</td>\n",
              "      <td>1.397800</td>\n",
              "    </tr>\n",
              "    <tr>\n",
              "      <td>150</td>\n",
              "      <td>1.224300</td>\n",
              "    </tr>\n",
              "    <tr>\n",
              "      <td>175</td>\n",
              "      <td>1.472600</td>\n",
              "    </tr>\n",
              "    <tr>\n",
              "      <td>200</td>\n",
              "      <td>1.187200</td>\n",
              "    </tr>\n",
              "    <tr>\n",
              "      <td>225</td>\n",
              "      <td>1.385300</td>\n",
              "    </tr>\n",
              "    <tr>\n",
              "      <td>250</td>\n",
              "      <td>1.123300</td>\n",
              "    </tr>\n",
              "  </tbody>\n",
              "</table><p>"
            ]
          },
          "metadata": {}
        }
      ]
    },
    {
      "cell_type": "code",
      "source": [
        "# Save trained model\n",
        "trainer.model.save_pretrained(new_model)"
      ],
      "metadata": {
        "id": "gyJr46fXBG_j"
      },
      "execution_count": null,
      "outputs": []
    },
    {
      "cell_type": "markdown",
      "source": [
        "# Store finetuned model"
      ],
      "metadata": {
        "id": "TcsAGJIZDtXd"
      }
    },
    {
      "cell_type": "code",
      "source": [
        "# Reload model in FP16 and merge it with LoRA weights\n",
        "base_model = AutoModelForCausalLM.from_pretrained(\n",
        "    model_name,\n",
        "    low_cpu_mem_usage=True,\n",
        "    return_dict=True,\n",
        "    torch_dtype=torch.float16,\n",
        "    device_map=device_map,\n",
        ")"
      ],
      "metadata": {
        "id": "HJO2yFEe9Ffy"
      },
      "execution_count": null,
      "outputs": []
    },
    {
      "cell_type": "code",
      "source": [
        "prompt = \"Do you have available apointments?\"\n",
        "# prompt = 'What medication can I take for the pain?'"
      ],
      "metadata": {
        "id": "GWOMmMhqHK4q"
      },
      "execution_count": null,
      "outputs": []
    },
    {
      "cell_type": "code",
      "source": [
        "# Run text generation pipeline with the base model\n",
        "base_pipe = pipeline(task=\"text-generation\", model=base_model, tokenizer=tokenizer, max_length=200)\n",
        "base_result = base_pipe(f\"<s>[INST] {prompt} [/INST]\")\n",
        "generated_text = base_result[0]['generated_text']"
      ],
      "metadata": {
        "id": "Y-SyQr39G1gr"
      },
      "execution_count": null,
      "outputs": []
    },
    {
      "cell_type": "code",
      "source": [
        "matchs = re.search(r'\\[\\/INST\\](.*?)\\[INST\\]', generated_text, re.DOTALL)\n",
        "\n",
        "if matchs:\n",
        "    extracted_text = matchs.group(1).strip()\n",
        "else:\n",
        "    extracted_text = generated_text\n",
        "\n",
        "# Print the extracted response\n",
        "print(\"Base model response:\")\n",
        "print(extracted_text)"
      ],
      "metadata": {
        "id": "NGVcfcv5HlcL"
      },
      "execution_count": null,
      "outputs": []
    },
    {
      "cell_type": "code",
      "source": [
        "model = PeftModel.from_pretrained(base_model, new_model)\n",
        "model = model.merge_and_unload()\n",
        "\n",
        "# Reload tokenizer to save it\n",
        "tokenizer = AutoTokenizer.from_pretrained(model_name, trust_remote_code=True)\n",
        "tokenizer.pad_token = tokenizer.eos_token\n",
        "tokenizer.padding_side = \"right\""
      ],
      "metadata": {
        "id": "PVO0itIfByFt"
      },
      "execution_count": null,
      "outputs": []
    },
    {
      "cell_type": "markdown",
      "source": [
        "# Visual analisys"
      ],
      "metadata": {
        "id": "PiqiIBAKBDYT"
      }
    },
    {
      "cell_type": "code",
      "source": [
        "%load_ext tensorboard\n",
        "%tensorboard --logdir results/runs"
      ],
      "metadata": {
        "id": "MWeLH7waATKi"
      },
      "execution_count": null,
      "outputs": []
    },
    {
      "cell_type": "code",
      "source": [
        "# Ignore warnings\n",
        "logging.set_verbosity(logging.CRITICAL)"
      ],
      "metadata": {
        "id": "UjqhMwHnfTaw"
      },
      "execution_count": null,
      "outputs": []
    },
    {
      "cell_type": "code",
      "source": [
        "# Run text generation pipeline with the fine-tuned model\n",
        "fine_tuned_pipe = pipeline(task=\"text-generation\", model=model, tokenizer=tokenizer, max_length=200)\n",
        "fine_tuned_result = fine_tuned_pipe(f\"<s>[INST] {prompt} [/INST]\")\n",
        "generated_text = fine_tuned_result[0]['generated_text']\n",
        "\n",
        "# Print the extracted response\n",
        "print(\"Fine-tuned model response:\")\n",
        "print(generated_text)\n"
      ],
      "metadata": {
        "id": "vF--uDQK23Fe"
      },
      "execution_count": null,
      "outputs": []
    },
    {
      "cell_type": "code",
      "source": [],
      "metadata": {
        "id": "cX3YLu-4T4S2"
      },
      "execution_count": null,
      "outputs": []
    }
  ],
  "metadata": {
    "accelerator": "GPU",
    "colab": {
      "gpuType": "A100",
      "provenance": [],
      "machine_shape": "hm",
      "include_colab_link": true
    },
    "kernelspec": {
      "display_name": "Python 3",
      "name": "python3"
    },
    "language_info": {
      "name": "python"
    },
    "widgets": {
      "application/vnd.jupyter.widget-state+json": {
        "3c60c1c25abd423fbc5c70106d32ef0a": {
          "model_module": "@jupyter-widgets/controls",
          "model_name": "HBoxModel",
          "model_module_version": "1.5.0",
          "state": {
            "_dom_classes": [],
            "_model_module": "@jupyter-widgets/controls",
            "_model_module_version": "1.5.0",
            "_model_name": "HBoxModel",
            "_view_count": null,
            "_view_module": "@jupyter-widgets/controls",
            "_view_module_version": "1.5.0",
            "_view_name": "HBoxView",
            "box_style": "",
            "children": [
              "IPY_MODEL_f13e0151f1e74431ac764d4ee1493b46",
              "IPY_MODEL_8971857433764a1e967dc6443836fd8a",
              "IPY_MODEL_d65790efcbdb478c818225c2e56d26cc"
            ],
            "layout": "IPY_MODEL_f633bc68104d49438e1be9daf4fb1d8a"
          }
        },
        "f13e0151f1e74431ac764d4ee1493b46": {
          "model_module": "@jupyter-widgets/controls",
          "model_name": "HTMLModel",
          "model_module_version": "1.5.0",
          "state": {
            "_dom_classes": [],
            "_model_module": "@jupyter-widgets/controls",
            "_model_module_version": "1.5.0",
            "_model_name": "HTMLModel",
            "_view_count": null,
            "_view_module": "@jupyter-widgets/controls",
            "_view_module_version": "1.5.0",
            "_view_name": "HTMLView",
            "description": "",
            "description_tooltip": null,
            "layout": "IPY_MODEL_f503b0394f564f92a91686226f8f2a88",
            "placeholder": "​",
            "style": "IPY_MODEL_0acfd030970b4678954d0cd5beb7bfbf",
            "value": "Loading checkpoint shards: 100%"
          }
        },
        "8971857433764a1e967dc6443836fd8a": {
          "model_module": "@jupyter-widgets/controls",
          "model_name": "FloatProgressModel",
          "model_module_version": "1.5.0",
          "state": {
            "_dom_classes": [],
            "_model_module": "@jupyter-widgets/controls",
            "_model_module_version": "1.5.0",
            "_model_name": "FloatProgressModel",
            "_view_count": null,
            "_view_module": "@jupyter-widgets/controls",
            "_view_module_version": "1.5.0",
            "_view_name": "ProgressView",
            "bar_style": "success",
            "description": "",
            "description_tooltip": null,
            "layout": "IPY_MODEL_1524e330ea08453fbb7d1c16ad08fc33",
            "max": 3,
            "min": 0,
            "orientation": "horizontal",
            "style": "IPY_MODEL_8f9605af4105455587847c9d3137ed9d",
            "value": 3
          }
        },
        "d65790efcbdb478c818225c2e56d26cc": {
          "model_module": "@jupyter-widgets/controls",
          "model_name": "HTMLModel",
          "model_module_version": "1.5.0",
          "state": {
            "_dom_classes": [],
            "_model_module": "@jupyter-widgets/controls",
            "_model_module_version": "1.5.0",
            "_model_name": "HTMLModel",
            "_view_count": null,
            "_view_module": "@jupyter-widgets/controls",
            "_view_module_version": "1.5.0",
            "_view_name": "HTMLView",
            "description": "",
            "description_tooltip": null,
            "layout": "IPY_MODEL_a170d84be8b343d89ac0e4491413dd84",
            "placeholder": "​",
            "style": "IPY_MODEL_57a7c99ee72649d2b3ec6aff52c797fe",
            "value": " 3/3 [00:09&lt;00:00,  3.19s/it]"
          }
        },
        "f633bc68104d49438e1be9daf4fb1d8a": {
          "model_module": "@jupyter-widgets/base",
          "model_name": "LayoutModel",
          "model_module_version": "1.2.0",
          "state": {
            "_model_module": "@jupyter-widgets/base",
            "_model_module_version": "1.2.0",
            "_model_name": "LayoutModel",
            "_view_count": null,
            "_view_module": "@jupyter-widgets/base",
            "_view_module_version": "1.2.0",
            "_view_name": "LayoutView",
            "align_content": null,
            "align_items": null,
            "align_self": null,
            "border": null,
            "bottom": null,
            "display": null,
            "flex": null,
            "flex_flow": null,
            "grid_area": null,
            "grid_auto_columns": null,
            "grid_auto_flow": null,
            "grid_auto_rows": null,
            "grid_column": null,
            "grid_gap": null,
            "grid_row": null,
            "grid_template_areas": null,
            "grid_template_columns": null,
            "grid_template_rows": null,
            "height": null,
            "justify_content": null,
            "justify_items": null,
            "left": null,
            "margin": null,
            "max_height": null,
            "max_width": null,
            "min_height": null,
            "min_width": null,
            "object_fit": null,
            "object_position": null,
            "order": null,
            "overflow": null,
            "overflow_x": null,
            "overflow_y": null,
            "padding": null,
            "right": null,
            "top": null,
            "visibility": null,
            "width": null
          }
        },
        "f503b0394f564f92a91686226f8f2a88": {
          "model_module": "@jupyter-widgets/base",
          "model_name": "LayoutModel",
          "model_module_version": "1.2.0",
          "state": {
            "_model_module": "@jupyter-widgets/base",
            "_model_module_version": "1.2.0",
            "_model_name": "LayoutModel",
            "_view_count": null,
            "_view_module": "@jupyter-widgets/base",
            "_view_module_version": "1.2.0",
            "_view_name": "LayoutView",
            "align_content": null,
            "align_items": null,
            "align_self": null,
            "border": null,
            "bottom": null,
            "display": null,
            "flex": null,
            "flex_flow": null,
            "grid_area": null,
            "grid_auto_columns": null,
            "grid_auto_flow": null,
            "grid_auto_rows": null,
            "grid_column": null,
            "grid_gap": null,
            "grid_row": null,
            "grid_template_areas": null,
            "grid_template_columns": null,
            "grid_template_rows": null,
            "height": null,
            "justify_content": null,
            "justify_items": null,
            "left": null,
            "margin": null,
            "max_height": null,
            "max_width": null,
            "min_height": null,
            "min_width": null,
            "object_fit": null,
            "object_position": null,
            "order": null,
            "overflow": null,
            "overflow_x": null,
            "overflow_y": null,
            "padding": null,
            "right": null,
            "top": null,
            "visibility": null,
            "width": null
          }
        },
        "0acfd030970b4678954d0cd5beb7bfbf": {
          "model_module": "@jupyter-widgets/controls",
          "model_name": "DescriptionStyleModel",
          "model_module_version": "1.5.0",
          "state": {
            "_model_module": "@jupyter-widgets/controls",
            "_model_module_version": "1.5.0",
            "_model_name": "DescriptionStyleModel",
            "_view_count": null,
            "_view_module": "@jupyter-widgets/base",
            "_view_module_version": "1.2.0",
            "_view_name": "StyleView",
            "description_width": ""
          }
        },
        "1524e330ea08453fbb7d1c16ad08fc33": {
          "model_module": "@jupyter-widgets/base",
          "model_name": "LayoutModel",
          "model_module_version": "1.2.0",
          "state": {
            "_model_module": "@jupyter-widgets/base",
            "_model_module_version": "1.2.0",
            "_model_name": "LayoutModel",
            "_view_count": null,
            "_view_module": "@jupyter-widgets/base",
            "_view_module_version": "1.2.0",
            "_view_name": "LayoutView",
            "align_content": null,
            "align_items": null,
            "align_self": null,
            "border": null,
            "bottom": null,
            "display": null,
            "flex": null,
            "flex_flow": null,
            "grid_area": null,
            "grid_auto_columns": null,
            "grid_auto_flow": null,
            "grid_auto_rows": null,
            "grid_column": null,
            "grid_gap": null,
            "grid_row": null,
            "grid_template_areas": null,
            "grid_template_columns": null,
            "grid_template_rows": null,
            "height": null,
            "justify_content": null,
            "justify_items": null,
            "left": null,
            "margin": null,
            "max_height": null,
            "max_width": null,
            "min_height": null,
            "min_width": null,
            "object_fit": null,
            "object_position": null,
            "order": null,
            "overflow": null,
            "overflow_x": null,
            "overflow_y": null,
            "padding": null,
            "right": null,
            "top": null,
            "visibility": null,
            "width": null
          }
        },
        "8f9605af4105455587847c9d3137ed9d": {
          "model_module": "@jupyter-widgets/controls",
          "model_name": "ProgressStyleModel",
          "model_module_version": "1.5.0",
          "state": {
            "_model_module": "@jupyter-widgets/controls",
            "_model_module_version": "1.5.0",
            "_model_name": "ProgressStyleModel",
            "_view_count": null,
            "_view_module": "@jupyter-widgets/base",
            "_view_module_version": "1.2.0",
            "_view_name": "StyleView",
            "bar_color": null,
            "description_width": ""
          }
        },
        "a170d84be8b343d89ac0e4491413dd84": {
          "model_module": "@jupyter-widgets/base",
          "model_name": "LayoutModel",
          "model_module_version": "1.2.0",
          "state": {
            "_model_module": "@jupyter-widgets/base",
            "_model_module_version": "1.2.0",
            "_model_name": "LayoutModel",
            "_view_count": null,
            "_view_module": "@jupyter-widgets/base",
            "_view_module_version": "1.2.0",
            "_view_name": "LayoutView",
            "align_content": null,
            "align_items": null,
            "align_self": null,
            "border": null,
            "bottom": null,
            "display": null,
            "flex": null,
            "flex_flow": null,
            "grid_area": null,
            "grid_auto_columns": null,
            "grid_auto_flow": null,
            "grid_auto_rows": null,
            "grid_column": null,
            "grid_gap": null,
            "grid_row": null,
            "grid_template_areas": null,
            "grid_template_columns": null,
            "grid_template_rows": null,
            "height": null,
            "justify_content": null,
            "justify_items": null,
            "left": null,
            "margin": null,
            "max_height": null,
            "max_width": null,
            "min_height": null,
            "min_width": null,
            "object_fit": null,
            "object_position": null,
            "order": null,
            "overflow": null,
            "overflow_x": null,
            "overflow_y": null,
            "padding": null,
            "right": null,
            "top": null,
            "visibility": null,
            "width": null
          }
        },
        "57a7c99ee72649d2b3ec6aff52c797fe": {
          "model_module": "@jupyter-widgets/controls",
          "model_name": "DescriptionStyleModel",
          "model_module_version": "1.5.0",
          "state": {
            "_model_module": "@jupyter-widgets/controls",
            "_model_module_version": "1.5.0",
            "_model_name": "DescriptionStyleModel",
            "_view_count": null,
            "_view_module": "@jupyter-widgets/base",
            "_view_module_version": "1.2.0",
            "_view_name": "StyleView",
            "description_width": ""
          }
        },
        "cb008acfa5604875b0a9b067e78d4c9c": {
          "model_module": "@jupyter-widgets/controls",
          "model_name": "HBoxModel",
          "model_module_version": "1.5.0",
          "state": {
            "_dom_classes": [],
            "_model_module": "@jupyter-widgets/controls",
            "_model_module_version": "1.5.0",
            "_model_name": "HBoxModel",
            "_view_count": null,
            "_view_module": "@jupyter-widgets/controls",
            "_view_module_version": "1.5.0",
            "_view_name": "HBoxView",
            "box_style": "",
            "children": [
              "IPY_MODEL_6917aef9115f4f058403da30b31275d1",
              "IPY_MODEL_8d109598df8241829068889e71a8a585",
              "IPY_MODEL_32dd6eba092845478ddd1cea210aa877"
            ],
            "layout": "IPY_MODEL_761fde8fd3e84cba80a1496d60ac475e"
          }
        },
        "6917aef9115f4f058403da30b31275d1": {
          "model_module": "@jupyter-widgets/controls",
          "model_name": "HTMLModel",
          "model_module_version": "1.5.0",
          "state": {
            "_dom_classes": [],
            "_model_module": "@jupyter-widgets/controls",
            "_model_module_version": "1.5.0",
            "_model_name": "HTMLModel",
            "_view_count": null,
            "_view_module": "@jupyter-widgets/controls",
            "_view_module_version": "1.5.0",
            "_view_name": "HTMLView",
            "description": "",
            "description_tooltip": null,
            "layout": "IPY_MODEL_2482ab3e09e243a78dc25109fec036f8",
            "placeholder": "​",
            "style": "IPY_MODEL_89a3800e2c3849ee81019721842e9f7b",
            "value": "Map: 100%"
          }
        },
        "8d109598df8241829068889e71a8a585": {
          "model_module": "@jupyter-widgets/controls",
          "model_name": "FloatProgressModel",
          "model_module_version": "1.5.0",
          "state": {
            "_dom_classes": [],
            "_model_module": "@jupyter-widgets/controls",
            "_model_module_version": "1.5.0",
            "_model_name": "FloatProgressModel",
            "_view_count": null,
            "_view_module": "@jupyter-widgets/controls",
            "_view_module_version": "1.5.0",
            "_view_name": "ProgressView",
            "bar_style": "success",
            "description": "",
            "description_tooltip": null,
            "layout": "IPY_MODEL_3f0c0049da704ee58aa44010710b1243",
            "max": 4000,
            "min": 0,
            "orientation": "horizontal",
            "style": "IPY_MODEL_9db18f8dde8c4b0496a279488ea69ae7",
            "value": 4000
          }
        },
        "32dd6eba092845478ddd1cea210aa877": {
          "model_module": "@jupyter-widgets/controls",
          "model_name": "HTMLModel",
          "model_module_version": "1.5.0",
          "state": {
            "_dom_classes": [],
            "_model_module": "@jupyter-widgets/controls",
            "_model_module_version": "1.5.0",
            "_model_name": "HTMLModel",
            "_view_count": null,
            "_view_module": "@jupyter-widgets/controls",
            "_view_module_version": "1.5.0",
            "_view_name": "HTMLView",
            "description": "",
            "description_tooltip": null,
            "layout": "IPY_MODEL_22b6e9dea8be4ad28e279715ce950d38",
            "placeholder": "​",
            "style": "IPY_MODEL_9e332aa1adc9490499b60bd583805c7d",
            "value": " 4000/4000 [00:04&lt;00:00, 922.74 examples/s]"
          }
        },
        "761fde8fd3e84cba80a1496d60ac475e": {
          "model_module": "@jupyter-widgets/base",
          "model_name": "LayoutModel",
          "model_module_version": "1.2.0",
          "state": {
            "_model_module": "@jupyter-widgets/base",
            "_model_module_version": "1.2.0",
            "_model_name": "LayoutModel",
            "_view_count": null,
            "_view_module": "@jupyter-widgets/base",
            "_view_module_version": "1.2.0",
            "_view_name": "LayoutView",
            "align_content": null,
            "align_items": null,
            "align_self": null,
            "border": null,
            "bottom": null,
            "display": null,
            "flex": null,
            "flex_flow": null,
            "grid_area": null,
            "grid_auto_columns": null,
            "grid_auto_flow": null,
            "grid_auto_rows": null,
            "grid_column": null,
            "grid_gap": null,
            "grid_row": null,
            "grid_template_areas": null,
            "grid_template_columns": null,
            "grid_template_rows": null,
            "height": null,
            "justify_content": null,
            "justify_items": null,
            "left": null,
            "margin": null,
            "max_height": null,
            "max_width": null,
            "min_height": null,
            "min_width": null,
            "object_fit": null,
            "object_position": null,
            "order": null,
            "overflow": null,
            "overflow_x": null,
            "overflow_y": null,
            "padding": null,
            "right": null,
            "top": null,
            "visibility": null,
            "width": null
          }
        },
        "2482ab3e09e243a78dc25109fec036f8": {
          "model_module": "@jupyter-widgets/base",
          "model_name": "LayoutModel",
          "model_module_version": "1.2.0",
          "state": {
            "_model_module": "@jupyter-widgets/base",
            "_model_module_version": "1.2.0",
            "_model_name": "LayoutModel",
            "_view_count": null,
            "_view_module": "@jupyter-widgets/base",
            "_view_module_version": "1.2.0",
            "_view_name": "LayoutView",
            "align_content": null,
            "align_items": null,
            "align_self": null,
            "border": null,
            "bottom": null,
            "display": null,
            "flex": null,
            "flex_flow": null,
            "grid_area": null,
            "grid_auto_columns": null,
            "grid_auto_flow": null,
            "grid_auto_rows": null,
            "grid_column": null,
            "grid_gap": null,
            "grid_row": null,
            "grid_template_areas": null,
            "grid_template_columns": null,
            "grid_template_rows": null,
            "height": null,
            "justify_content": null,
            "justify_items": null,
            "left": null,
            "margin": null,
            "max_height": null,
            "max_width": null,
            "min_height": null,
            "min_width": null,
            "object_fit": null,
            "object_position": null,
            "order": null,
            "overflow": null,
            "overflow_x": null,
            "overflow_y": null,
            "padding": null,
            "right": null,
            "top": null,
            "visibility": null,
            "width": null
          }
        },
        "89a3800e2c3849ee81019721842e9f7b": {
          "model_module": "@jupyter-widgets/controls",
          "model_name": "DescriptionStyleModel",
          "model_module_version": "1.5.0",
          "state": {
            "_model_module": "@jupyter-widgets/controls",
            "_model_module_version": "1.5.0",
            "_model_name": "DescriptionStyleModel",
            "_view_count": null,
            "_view_module": "@jupyter-widgets/base",
            "_view_module_version": "1.2.0",
            "_view_name": "StyleView",
            "description_width": ""
          }
        },
        "3f0c0049da704ee58aa44010710b1243": {
          "model_module": "@jupyter-widgets/base",
          "model_name": "LayoutModel",
          "model_module_version": "1.2.0",
          "state": {
            "_model_module": "@jupyter-widgets/base",
            "_model_module_version": "1.2.0",
            "_model_name": "LayoutModel",
            "_view_count": null,
            "_view_module": "@jupyter-widgets/base",
            "_view_module_version": "1.2.0",
            "_view_name": "LayoutView",
            "align_content": null,
            "align_items": null,
            "align_self": null,
            "border": null,
            "bottom": null,
            "display": null,
            "flex": null,
            "flex_flow": null,
            "grid_area": null,
            "grid_auto_columns": null,
            "grid_auto_flow": null,
            "grid_auto_rows": null,
            "grid_column": null,
            "grid_gap": null,
            "grid_row": null,
            "grid_template_areas": null,
            "grid_template_columns": null,
            "grid_template_rows": null,
            "height": null,
            "justify_content": null,
            "justify_items": null,
            "left": null,
            "margin": null,
            "max_height": null,
            "max_width": null,
            "min_height": null,
            "min_width": null,
            "object_fit": null,
            "object_position": null,
            "order": null,
            "overflow": null,
            "overflow_x": null,
            "overflow_y": null,
            "padding": null,
            "right": null,
            "top": null,
            "visibility": null,
            "width": null
          }
        },
        "9db18f8dde8c4b0496a279488ea69ae7": {
          "model_module": "@jupyter-widgets/controls",
          "model_name": "ProgressStyleModel",
          "model_module_version": "1.5.0",
          "state": {
            "_model_module": "@jupyter-widgets/controls",
            "_model_module_version": "1.5.0",
            "_model_name": "ProgressStyleModel",
            "_view_count": null,
            "_view_module": "@jupyter-widgets/base",
            "_view_module_version": "1.2.0",
            "_view_name": "StyleView",
            "bar_color": null,
            "description_width": ""
          }
        },
        "22b6e9dea8be4ad28e279715ce950d38": {
          "model_module": "@jupyter-widgets/base",
          "model_name": "LayoutModel",
          "model_module_version": "1.2.0",
          "state": {
            "_model_module": "@jupyter-widgets/base",
            "_model_module_version": "1.2.0",
            "_model_name": "LayoutModel",
            "_view_count": null,
            "_view_module": "@jupyter-widgets/base",
            "_view_module_version": "1.2.0",
            "_view_name": "LayoutView",
            "align_content": null,
            "align_items": null,
            "align_self": null,
            "border": null,
            "bottom": null,
            "display": null,
            "flex": null,
            "flex_flow": null,
            "grid_area": null,
            "grid_auto_columns": null,
            "grid_auto_flow": null,
            "grid_auto_rows": null,
            "grid_column": null,
            "grid_gap": null,
            "grid_row": null,
            "grid_template_areas": null,
            "grid_template_columns": null,
            "grid_template_rows": null,
            "height": null,
            "justify_content": null,
            "justify_items": null,
            "left": null,
            "margin": null,
            "max_height": null,
            "max_width": null,
            "min_height": null,
            "min_width": null,
            "object_fit": null,
            "object_position": null,
            "order": null,
            "overflow": null,
            "overflow_x": null,
            "overflow_y": null,
            "padding": null,
            "right": null,
            "top": null,
            "visibility": null,
            "width": null
          }
        },
        "9e332aa1adc9490499b60bd583805c7d": {
          "model_module": "@jupyter-widgets/controls",
          "model_name": "DescriptionStyleModel",
          "model_module_version": "1.5.0",
          "state": {
            "_model_module": "@jupyter-widgets/controls",
            "_model_module_version": "1.5.0",
            "_model_name": "DescriptionStyleModel",
            "_view_count": null,
            "_view_module": "@jupyter-widgets/base",
            "_view_module_version": "1.2.0",
            "_view_name": "StyleView",
            "description_width": ""
          }
        },
        "0e7ec4b4776b4b97be9dd81e8783335a": {
          "model_module": "@jupyter-widgets/controls",
          "model_name": "HBoxModel",
          "model_module_version": "1.5.0",
          "state": {
            "_dom_classes": [],
            "_model_module": "@jupyter-widgets/controls",
            "_model_module_version": "1.5.0",
            "_model_name": "HBoxModel",
            "_view_count": null,
            "_view_module": "@jupyter-widgets/controls",
            "_view_module_version": "1.5.0",
            "_view_name": "HBoxView",
            "box_style": "",
            "children": [
              "IPY_MODEL_ec9157ba286949c88358a9098284bd61",
              "IPY_MODEL_62d099374f9f4acd878b820659878f75",
              "IPY_MODEL_6138cfac57be437fa579dad8ed17b78c"
            ],
            "layout": "IPY_MODEL_67625ccac5f44b70b752ff0495965168"
          }
        },
        "ec9157ba286949c88358a9098284bd61": {
          "model_module": "@jupyter-widgets/controls",
          "model_name": "HTMLModel",
          "model_module_version": "1.5.0",
          "state": {
            "_dom_classes": [],
            "_model_module": "@jupyter-widgets/controls",
            "_model_module_version": "1.5.0",
            "_model_name": "HTMLModel",
            "_view_count": null,
            "_view_module": "@jupyter-widgets/controls",
            "_view_module_version": "1.5.0",
            "_view_name": "HTMLView",
            "description": "",
            "description_tooltip": null,
            "layout": "IPY_MODEL_b2de5979786d49f693946549d1a5f7dd",
            "placeholder": "​",
            "style": "IPY_MODEL_2b5cdfd9fd8242158f02beb7ec975483",
            "value": "Map: 100%"
          }
        },
        "62d099374f9f4acd878b820659878f75": {
          "model_module": "@jupyter-widgets/controls",
          "model_name": "FloatProgressModel",
          "model_module_version": "1.5.0",
          "state": {
            "_dom_classes": [],
            "_model_module": "@jupyter-widgets/controls",
            "_model_module_version": "1.5.0",
            "_model_name": "FloatProgressModel",
            "_view_count": null,
            "_view_module": "@jupyter-widgets/controls",
            "_view_module_version": "1.5.0",
            "_view_name": "ProgressView",
            "bar_style": "success",
            "description": "",
            "description_tooltip": null,
            "layout": "IPY_MODEL_5f2ac46dbe804ceeb4cbe5a40f36e17e",
            "max": 1000,
            "min": 0,
            "orientation": "horizontal",
            "style": "IPY_MODEL_842c9d9e824741fb8b29c2af8f526d5e",
            "value": 1000
          }
        },
        "6138cfac57be437fa579dad8ed17b78c": {
          "model_module": "@jupyter-widgets/controls",
          "model_name": "HTMLModel",
          "model_module_version": "1.5.0",
          "state": {
            "_dom_classes": [],
            "_model_module": "@jupyter-widgets/controls",
            "_model_module_version": "1.5.0",
            "_model_name": "HTMLModel",
            "_view_count": null,
            "_view_module": "@jupyter-widgets/controls",
            "_view_module_version": "1.5.0",
            "_view_name": "HTMLView",
            "description": "",
            "description_tooltip": null,
            "layout": "IPY_MODEL_020a2920e90a4913a512688571de653a",
            "placeholder": "​",
            "style": "IPY_MODEL_c9d18003e72847b989620ded3c06dbdf",
            "value": " 1000/1000 [00:01&lt;00:00, 893.40 examples/s]"
          }
        },
        "67625ccac5f44b70b752ff0495965168": {
          "model_module": "@jupyter-widgets/base",
          "model_name": "LayoutModel",
          "model_module_version": "1.2.0",
          "state": {
            "_model_module": "@jupyter-widgets/base",
            "_model_module_version": "1.2.0",
            "_model_name": "LayoutModel",
            "_view_count": null,
            "_view_module": "@jupyter-widgets/base",
            "_view_module_version": "1.2.0",
            "_view_name": "LayoutView",
            "align_content": null,
            "align_items": null,
            "align_self": null,
            "border": null,
            "bottom": null,
            "display": null,
            "flex": null,
            "flex_flow": null,
            "grid_area": null,
            "grid_auto_columns": null,
            "grid_auto_flow": null,
            "grid_auto_rows": null,
            "grid_column": null,
            "grid_gap": null,
            "grid_row": null,
            "grid_template_areas": null,
            "grid_template_columns": null,
            "grid_template_rows": null,
            "height": null,
            "justify_content": null,
            "justify_items": null,
            "left": null,
            "margin": null,
            "max_height": null,
            "max_width": null,
            "min_height": null,
            "min_width": null,
            "object_fit": null,
            "object_position": null,
            "order": null,
            "overflow": null,
            "overflow_x": null,
            "overflow_y": null,
            "padding": null,
            "right": null,
            "top": null,
            "visibility": null,
            "width": null
          }
        },
        "b2de5979786d49f693946549d1a5f7dd": {
          "model_module": "@jupyter-widgets/base",
          "model_name": "LayoutModel",
          "model_module_version": "1.2.0",
          "state": {
            "_model_module": "@jupyter-widgets/base",
            "_model_module_version": "1.2.0",
            "_model_name": "LayoutModel",
            "_view_count": null,
            "_view_module": "@jupyter-widgets/base",
            "_view_module_version": "1.2.0",
            "_view_name": "LayoutView",
            "align_content": null,
            "align_items": null,
            "align_self": null,
            "border": null,
            "bottom": null,
            "display": null,
            "flex": null,
            "flex_flow": null,
            "grid_area": null,
            "grid_auto_columns": null,
            "grid_auto_flow": null,
            "grid_auto_rows": null,
            "grid_column": null,
            "grid_gap": null,
            "grid_row": null,
            "grid_template_areas": null,
            "grid_template_columns": null,
            "grid_template_rows": null,
            "height": null,
            "justify_content": null,
            "justify_items": null,
            "left": null,
            "margin": null,
            "max_height": null,
            "max_width": null,
            "min_height": null,
            "min_width": null,
            "object_fit": null,
            "object_position": null,
            "order": null,
            "overflow": null,
            "overflow_x": null,
            "overflow_y": null,
            "padding": null,
            "right": null,
            "top": null,
            "visibility": null,
            "width": null
          }
        },
        "2b5cdfd9fd8242158f02beb7ec975483": {
          "model_module": "@jupyter-widgets/controls",
          "model_name": "DescriptionStyleModel",
          "model_module_version": "1.5.0",
          "state": {
            "_model_module": "@jupyter-widgets/controls",
            "_model_module_version": "1.5.0",
            "_model_name": "DescriptionStyleModel",
            "_view_count": null,
            "_view_module": "@jupyter-widgets/base",
            "_view_module_version": "1.2.0",
            "_view_name": "StyleView",
            "description_width": ""
          }
        },
        "5f2ac46dbe804ceeb4cbe5a40f36e17e": {
          "model_module": "@jupyter-widgets/base",
          "model_name": "LayoutModel",
          "model_module_version": "1.2.0",
          "state": {
            "_model_module": "@jupyter-widgets/base",
            "_model_module_version": "1.2.0",
            "_model_name": "LayoutModel",
            "_view_count": null,
            "_view_module": "@jupyter-widgets/base",
            "_view_module_version": "1.2.0",
            "_view_name": "LayoutView",
            "align_content": null,
            "align_items": null,
            "align_self": null,
            "border": null,
            "bottom": null,
            "display": null,
            "flex": null,
            "flex_flow": null,
            "grid_area": null,
            "grid_auto_columns": null,
            "grid_auto_flow": null,
            "grid_auto_rows": null,
            "grid_column": null,
            "grid_gap": null,
            "grid_row": null,
            "grid_template_areas": null,
            "grid_template_columns": null,
            "grid_template_rows": null,
            "height": null,
            "justify_content": null,
            "justify_items": null,
            "left": null,
            "margin": null,
            "max_height": null,
            "max_width": null,
            "min_height": null,
            "min_width": null,
            "object_fit": null,
            "object_position": null,
            "order": null,
            "overflow": null,
            "overflow_x": null,
            "overflow_y": null,
            "padding": null,
            "right": null,
            "top": null,
            "visibility": null,
            "width": null
          }
        },
        "842c9d9e824741fb8b29c2af8f526d5e": {
          "model_module": "@jupyter-widgets/controls",
          "model_name": "ProgressStyleModel",
          "model_module_version": "1.5.0",
          "state": {
            "_model_module": "@jupyter-widgets/controls",
            "_model_module_version": "1.5.0",
            "_model_name": "ProgressStyleModel",
            "_view_count": null,
            "_view_module": "@jupyter-widgets/base",
            "_view_module_version": "1.2.0",
            "_view_name": "StyleView",
            "bar_color": null,
            "description_width": ""
          }
        },
        "020a2920e90a4913a512688571de653a": {
          "model_module": "@jupyter-widgets/base",
          "model_name": "LayoutModel",
          "model_module_version": "1.2.0",
          "state": {
            "_model_module": "@jupyter-widgets/base",
            "_model_module_version": "1.2.0",
            "_model_name": "LayoutModel",
            "_view_count": null,
            "_view_module": "@jupyter-widgets/base",
            "_view_module_version": "1.2.0",
            "_view_name": "LayoutView",
            "align_content": null,
            "align_items": null,
            "align_self": null,
            "border": null,
            "bottom": null,
            "display": null,
            "flex": null,
            "flex_flow": null,
            "grid_area": null,
            "grid_auto_columns": null,
            "grid_auto_flow": null,
            "grid_auto_rows": null,
            "grid_column": null,
            "grid_gap": null,
            "grid_row": null,
            "grid_template_areas": null,
            "grid_template_columns": null,
            "grid_template_rows": null,
            "height": null,
            "justify_content": null,
            "justify_items": null,
            "left": null,
            "margin": null,
            "max_height": null,
            "max_width": null,
            "min_height": null,
            "min_width": null,
            "object_fit": null,
            "object_position": null,
            "order": null,
            "overflow": null,
            "overflow_x": null,
            "overflow_y": null,
            "padding": null,
            "right": null,
            "top": null,
            "visibility": null,
            "width": null
          }
        },
        "c9d18003e72847b989620ded3c06dbdf": {
          "model_module": "@jupyter-widgets/controls",
          "model_name": "DescriptionStyleModel",
          "model_module_version": "1.5.0",
          "state": {
            "_model_module": "@jupyter-widgets/controls",
            "_model_module_version": "1.5.0",
            "_model_name": "DescriptionStyleModel",
            "_view_count": null,
            "_view_module": "@jupyter-widgets/base",
            "_view_module_version": "1.2.0",
            "_view_name": "StyleView",
            "description_width": ""
          }
        }
      }
    }
  },
  "nbformat": 4,
  "nbformat_minor": 0
}